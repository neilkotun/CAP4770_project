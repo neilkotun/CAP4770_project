{
 "cells": [
  {
   "cell_type": "code",
   "execution_count": 1,
   "id": "b214750d",
   "metadata": {
    "scrolled": false
   },
   "outputs": [
    {
     "name": "stderr",
     "output_type": "stream",
     "text": [
      "C:\\Users\\priya\\anaconda3\\lib\\site-packages\\IPython\\core\\interactiveshell.py:3165: DtypeWarning: Columns (23) have mixed types.Specify dtype option on import or set low_memory=False.\n",
      "  has_raised = await self.run_ast_nodes(code_ast.body, cell_name,\n"
     ]
    },
    {
     "name": "stdout",
     "output_type": "stream",
     "text": [
      "       ACTIVITY_DATE ACTIVITY RESULTS\n",
      "0         04/21/2018          WARNING\n",
      "1         07/04/2009  CITATION ISSUED\n",
      "2         05/26/2018  CITATION ISSUED\n",
      "3         09/02/2009  CITATION ISSUED\n",
      "4         02/10/2016  CITATION ISSUED\n",
      "...              ...              ...\n",
      "431086    06/19/2014  CITATION ISSUED\n",
      "431087    05/16/2012  CITATION ISSUED\n",
      "431088    10/19/2014          WARNING\n",
      "431089    12/19/2009  CITATION ISSUED\n",
      "431090    02/20/2012  CITATION ISSUED\n",
      "\n",
      "[431091 rows x 2 columns]\n",
      "                      stopdate            eDesc\n",
      "0       2016/01/01 05:07:49+00  CITATION ISSUED\n",
      "1       2016/01/01 06:48:02+00  CITATION ISSUED\n",
      "2       2016/01/01 06:22:19+00  WRITTEN WARNING\n",
      "3       2016/01/01 08:45:07+00  CITATION ISSUED\n",
      "4       2016/01/01 08:42:48+00  CITATION ISSUED\n",
      "...                        ...              ...\n",
      "257895  2022/04/14 04:05:43+00  WRITTEN WARNING\n",
      "257896  2022/04/15 07:35:59+00  CITATION ISSUED\n",
      "257897  2022/04/15 07:07:28+00  CITATION ISSUED\n",
      "257898  2022/04/15 07:49:00+00  CITATION ISSUED\n",
      "257899  2022/04/15 08:03:09+00  WRITTEN WARNING\n",
      "\n",
      "[257900 rows x 2 columns]\n"
     ]
    }
   ],
   "source": [
    "import matplotlib.pyplot as plt\n",
    "import numpy as np\n",
    "import re\n",
    "import pandas as pd\n",
    "\n",
    "#Louisville traffic stop data\n",
    "c=pd.read_csv(\"CSVs/LMPD_STOPS_DATA.csv\",low_memory=False)\n",
    "#Fayetteville traffic stop data\n",
    "d=pd.read_csv(\"CSVs/Traffic_Stops.csv\")\n",
    "\n",
    "print(c[['ACTIVITY_DATE', 'ACTIVITY RESULTS']])\n",
    "print(d[['stopdate', 'eDesc']])\n",
    "\n",
    "set1Months = []\n",
    "set1StopResults = []\n",
    "set2Months = []\n",
    "set2StopResults = []\n",
    "\n",
    "for i in c['ACTIVITY_DATE']:\n",
    "    date = i.split(\"/\")\n",
    "    month = date[0]\n",
    "    set1Months.append(month)\n",
    "    #if re.match(\"1[0-2]\", month):\n",
    "    #    set1Months.append(month)\n",
    "    #else:\n",
    "    #    set1Months.append(\"0\" + month)\n",
    "\n",
    "for i in c['ACTIVITY RESULTS']:\n",
    "    if re.search(r'^C', i):\n",
    "        set1StopResults.append(\"C\")\n",
    "    else:\n",
    "        set1StopResults.append(\"W\")\n",
    "\n",
    "for i in d['stopdate']:\n",
    "    month = i.split(\"/\")\n",
    "    set2Months.append(month[1])\n",
    "\n",
    "for i in d['eDesc']:\n",
    "    if re.search(r'^C', i):\n",
    "        set2StopResults.append(\"C\")\n",
    "    else:\n",
    "        set2StopResults.append(\"W\")\n",
    "\n",
    "set1Months.sort()\n",
    "\n"
   ]
  },
  {
   "cell_type": "code",
   "execution_count": 7,
   "id": "aa17c266",
   "metadata": {},
   "outputs": [
    {
     "data": {
      "text/plain": [
       "B     145650\n",
       "W     102927\n",
       "A       5700\n",
       "I       2340\n",
       "U       1283\n",
       "Name: race, dtype: int64"
      ]
     },
     "execution_count": 7,
     "metadata": {},
     "output_type": "execute_result"
    }
   ],
   "source": [
    "d['race'].value_counts()"
   ]
  },
  {
   "cell_type": "code",
   "execution_count": 8,
   "id": "279eff62",
   "metadata": {},
   "outputs": [
    {
     "data": {
      "text/plain": [
       "WHITE                         293560\n",
       "BLACK                         114221\n",
       "HISPANIC                       17390\n",
       "ASIAN                           4301\n",
       "MIDDLE EASTERN DESCENT           568\n",
       "ASIAN/PACIFIC ISLANDER           375\n",
       "AMERICAN INDIAN                  278\n",
       "INDIAN/INDIA/BURMESE             196\n",
       "ALASKAN NATIVE                     9\n",
       "UNKNOWN                            6\n",
       "INDIAN/INDIA/BURMESE               1\n",
       "MIDDLE EASTERN                     1\n",
       "Name: DRIVER_RACE, dtype: int64"
      ]
     },
     "execution_count": 8,
     "metadata": {},
     "output_type": "execute_result"
    }
   ],
   "source": [
    "c['DRIVER_RACE'].value_counts()"
   ]
  },
  {
   "cell_type": "code",
   "execution_count": 9,
   "id": "7b0ebfa1",
   "metadata": {
    "scrolled": false
   },
   "outputs": [
    {
     "ename": "TypeError",
     "evalue": "bar() missing 1 required positional argument: 'height'",
     "output_type": "error",
     "traceback": [
      "\u001b[1;31m---------------------------------------------------------------------------\u001b[0m",
      "\u001b[1;31mTypeError\u001b[0m                                 Traceback (most recent call last)",
      "\u001b[1;32m<ipython-input-9-2274914ccb82>\u001b[0m in \u001b[0;36m<module>\u001b[1;34m\u001b[0m\n\u001b[0;32m      5\u001b[0m \u001b[1;33m\u001b[0m\u001b[0m\n\u001b[0;32m      6\u001b[0m \u001b[0mplt\u001b[0m\u001b[1;33m.\u001b[0m\u001b[0mhist\u001b[0m\u001b[1;33m(\u001b[0m\u001b[0mdf\u001b[0m\u001b[1;33m[\u001b[0m\u001b[1;34m'Month'\u001b[0m\u001b[1;33m]\u001b[0m\u001b[1;33m,\u001b[0m \u001b[0mbins\u001b[0m\u001b[1;33m=\u001b[0m\u001b[1;36m12\u001b[0m\u001b[1;33m,\u001b[0m \u001b[0mdensity\u001b[0m\u001b[1;33m=\u001b[0m\u001b[1;32mTrue\u001b[0m\u001b[1;33m,\u001b[0m \u001b[0medgecolor\u001b[0m\u001b[1;33m=\u001b[0m\u001b[1;34m'black'\u001b[0m\u001b[1;33m,\u001b[0m \u001b[0malpha\u001b[0m\u001b[1;33m=\u001b[0m\u001b[1;36m0.6\u001b[0m\u001b[1;33m)\u001b[0m\u001b[1;33m\u001b[0m\u001b[1;33m\u001b[0m\u001b[0m\n\u001b[1;32m----> 7\u001b[1;33m \u001b[0mplt\u001b[0m\u001b[1;33m.\u001b[0m\u001b[0mbar\u001b[0m\u001b[1;33m(\u001b[0m\u001b[1;33m[\u001b[0m\u001b[1;34m'Month'\u001b[0m\u001b[1;33m,\u001b[0m \u001b[1;34m'Results'\u001b[0m\u001b[1;33m]\u001b[0m\u001b[1;33m)\u001b[0m\u001b[1;33m\u001b[0m\u001b[1;33m\u001b[0m\u001b[0m\n\u001b[0m\u001b[0;32m      8\u001b[0m \u001b[1;33m\u001b[0m\u001b[0m\n\u001b[0;32m      9\u001b[0m \u001b[1;33m\u001b[0m\u001b[0m\n",
      "\u001b[1;31mTypeError\u001b[0m: bar() missing 1 required positional argument: 'height'"
     ]
    },
    {
     "data": {
      "image/png": "[encoded data removed]",
      "text/plain": [
       "<Figure size 432x288 with 1 Axes>"
      ]
     },
     "metadata": {
      "needs_background": "light"
     },
     "output_type": "display_data"
    }
   ],
   "source": [
    "df = pd.DataFrame(list(zip(set1Months, set1StopResults)), columns=['Month', 'Results'])\n",
    "plt.title('Louisville')\n",
    "plt.xlabel('Month')\n",
    "\n",
    "\n",
    "plt.hist(df['Month'], bins=12, density=True, edgecolor='black', alpha=0.6)\n",
    "plt.bar(['Month', 'Results'])\n",
    "\n",
    "\n",
    "plt.show()"
   ]
  },
  {
   "cell_type": "markdown",
   "id": "05519be7",
   "metadata": {},
   "source": [
    "## Gender\n"
   ]
  },
  {
   "cell_type": "code",
   "execution_count": 10,
   "id": "c0f3e7f9",
   "metadata": {},
   "outputs": [],
   "source": [
    "count1=list(c['DRIVER_GENDER'].value_counts())\n",
    "count1=[count1[x] for x in [0,1]]\n",
    "count2=list(d['sex'].value_counts())\n",
    "count2=[count2[x] for x in [0,1]]\n",
    "combined_count= [count1[i] + count2[i] for i in range(len(count1))]"
   ]
  },
  {
   "cell_type": "code",
   "execution_count": 11,
   "id": "21a77872",
   "metadata": {},
   "outputs": [],
   "source": [
    "#plot for db1"
   ]
  },
  {
   "cell_type": "code",
   "execution_count": 12,
   "id": "1172353a",
   "metadata": {},
   "outputs": [
    {
     "data": {
      "image/png": "[encoded data removed]",
      "text/plain": [
       "<Figure size 720x504 with 1 Axes>"
      ]
     },
     "metadata": {},
     "output_type": "display_data"
    }
   ],
   "source": [
    "fig = plt.figure(figsize =(10, 7))\n",
    "\n",
    "genders=['Male','Female']\n",
    "plt.pie(count1,labels=genders,autopct='%1.1f%%', shadow=True)\n",
    " \n",
    "# show plot\n",
    "plt.show()"
   ]
  },
  {
   "cell_type": "code",
   "execution_count": 13,
   "id": "0afc8746",
   "metadata": {},
   "outputs": [],
   "source": [
    "#plot for db2"
   ]
  },
  {
   "cell_type": "code",
   "execution_count": 14,
   "id": "1c90b650",
   "metadata": {},
   "outputs": [
    {
     "data": {
      "image/png": "[encoded data removed]",
      "text/plain": [
       "<Figure size 720x504 with 1 Axes>"
      ]
     },
     "metadata": {},
     "output_type": "display_data"
    }
   ],
   "source": [
    "fig = plt.figure(figsize =(10, 7))\n",
    "genders=['Male','Female']\n",
    "plt.pie(count2,labels=genders,autopct='%1.1f%%', shadow=True)\n",
    " \n",
    "# show plot\n",
    "plt.show()"
   ]
  },
  {
   "cell_type": "code",
   "execution_count": 15,
   "id": "567291d7",
   "metadata": {},
   "outputs": [],
   "source": [
    "#combined"
   ]
  },
  {
   "cell_type": "code",
   "execution_count": 16,
   "id": "79c111a3",
   "metadata": {},
   "outputs": [
    {
     "data": {
      "image/png": "[encoded data removed]",
      "text/plain": [
       "<Figure size 720x504 with 1 Axes>"
      ]
     },
     "metadata": {},
     "output_type": "display_data"
    }
   ],
   "source": [
    "fig = plt.figure(figsize =(10, 7))\n",
    "\n",
    "genders=['Male','Female']\n",
    "plt.pie(combined_count,labels=genders,autopct='%1.1f%%', shadow=True)\n",
    " \n",
    "# show plot\n",
    "plt.show()"
   ]
  },
  {
   "cell_type": "code",
   "execution_count": 17,
   "id": "5274c01b",
   "metadata": {},
   "outputs": [],
   "source": [
    "#We can see that approximately 41% of the stops are of women drivers, and 59% are of men."
   ]
  },
  {
   "cell_type": "markdown",
   "id": "cba9f210",
   "metadata": {},
   "source": [
    "## Age"
   ]
  },
  {
   "cell_type": "code",
   "execution_count": 18,
   "id": "459c8356",
   "metadata": {},
   "outputs": [
    {
     "data": {
      "text/plain": [
       "31 - 40     101811\n",
       "20 - 25      85859\n",
       "41 - 50      73402\n",
       "26 - 30      66153\n",
       "51 - 60      48432\n",
       "16 - 19      28945\n",
       "OVER 60      26228\n",
       "UNDER 16       221\n",
       "Name: DRIVER_AGE_RANGE, dtype: int64"
      ]
     },
     "execution_count": 18,
     "metadata": {},
     "output_type": "execute_result"
    }
   ],
   "source": [
    "c['DRIVER_AGE_RANGE'].value_counts()"
   ]
  },
  {
   "cell_type": "code",
   "execution_count": 19,
   "id": "5251bb73",
   "metadata": {},
   "outputs": [],
   "source": [
    "c1= c[c['DRIVER_AGE_RANGE'].notnull()]\n",
    "age=[]\n",
    "for i in c1['DRIVER_AGE_RANGE']:\n",
    "    if i==('UNDER 16'):\n",
    "        age.append(15)\n",
    "    elif i==('OVER 60'):\n",
    "        age.append(61)\n",
    "    else:\n",
    "        x= str(i).split(\" - \")\n",
    "        x1=(int(x[0])+int(x[1]))/2\n",
    "        age.append(x1)\n",
    "   \n",
    "        \n",
    "\n",
    "    "
   ]
  },
  {
   "cell_type": "code",
   "execution_count": 20,
   "id": "17cb9af5",
   "metadata": {},
   "outputs": [],
   "source": [
    "#dataset1"
   ]
  },
  {
   "cell_type": "code",
   "execution_count": 21,
   "id": "ffb7d8af",
   "metadata": {
    "scrolled": false
   },
   "outputs": [
    {
     "data": {
      "image/png": "[encoded data removed]",
      "text/plain": [
       "<Figure size 720x504 with 1 Axes>"
      ]
     },
     "metadata": {
      "needs_background": "light"
     },
     "output_type": "display_data"
    }
   ],
   "source": [
    "\n",
    "fig = plt.figure(figsize =(10, 7))\n",
    "bins = [16,20,25,30,40,50,60,65]\n",
    "\n",
    "plt.hist(age, bins=bins, edgecolor='black', log=True)\n",
    "color = '#fc4f30'\n",
    "\n",
    "\n",
    "plt.title('Ages of Drivers')\n",
    "plt.xlabel('Ages')\n",
    "plt.ylabel('Number of stops')\n",
    "\n",
    "plt.tight_layout()\n",
    "\n",
    "plt.show()"
   ]
  },
  {
   "cell_type": "code",
   "execution_count": 22,
   "id": "82f87d8b",
   "metadata": {},
   "outputs": [],
   "source": [
    "#dataset2"
   ]
  },
  {
   "cell_type": "code",
   "execution_count": 23,
   "id": "a51eb385",
   "metadata": {},
   "outputs": [
    {
     "data": {
      "text/plain": [
       "array([28, 33, 24, 36, 42, 25, 18, 37, 76, 54, 19, 35, 23, 20, 49, 32, 61,\n",
       "       29, 26, 39, 34, 57, 44, 63, 22, 40, 59, 30, 27, 52, 69, 51, 53, 31,\n",
       "       21, 71, 17, 75, 58, 50, 78, 47, 73, 45, 66, 77, 43, 82, 41, 55, 80,\n",
       "       48, 46, 64, 56, 16, 74, 60, 67, 72, 38, 70, 62, 68, 65,  2, 85, 90,\n",
       "       87, 79, 97, 83, 84, 92, 86,  3,  8, 12, 15, 81, 13,  1, 10,  5, 88,\n",
       "       14, 95, 89,  4,  6,  7,  9, 91, 11, 94, 93, 99, 98, 96],\n",
       "      dtype=int64)"
      ]
     },
     "execution_count": 23,
     "metadata": {},
     "output_type": "execute_result"
    }
   ],
   "source": [
    "d['age'].unique()"
   ]
  },
  {
   "cell_type": "code",
   "execution_count": 24,
   "id": "bf9d0e0f",
   "metadata": {},
   "outputs": [
    {
     "data": {
      "image/png": "[encoded data removed]",
      "text/plain": [
       "<Figure size 720x504 with 1 Axes>"
      ]
     },
     "metadata": {
      "needs_background": "light"
     },
     "output_type": "display_data"
    }
   ],
   "source": [
    "fig = plt.figure(figsize =(10, 7))\n",
    "bins = [16,20,25,30,40,50,60,65]\n",
    "\n",
    "plt.hist(d['age'], edgecolor='black', log=True)\n",
    "color = '#fc4f30'\n",
    "\n",
    "\n",
    "plt.title('Ages of Drivers')\n",
    "plt.xlabel('Ages')\n",
    "plt.ylabel('Number of stops')\n",
    "\n",
    "plt.tight_layout()\n",
    "\n",
    "plt.show()"
   ]
  },
  {
   "cell_type": "code",
   "execution_count": 25,
   "id": "5c6509d3",
   "metadata": {},
   "outputs": [],
   "source": [
    "def CountFrequency(my_list):\n",
    " \n",
    "    # Creating an empty dictionary\n",
    "    freq = {}\n",
    "    for item in my_list:\n",
    "        if (item in freq):\n",
    "            freq[item] += 1\n",
    "        else:\n",
    "            freq[item] = 1\n",
    " \n",
    "    for key, value in freq.items():\n",
    "        print (\"% d : % d\"%(key, value))\n",
    " \n",
    "\n"
   ]
  },
  {
   "cell_type": "code",
   "execution_count": 26,
   "id": "cbc386a0",
   "metadata": {},
   "outputs": [
    {
     "name": "stdout",
     "output_type": "stream",
     "text": [
      " 17 :  28945\n",
      " 45 :  73402\n",
      " 55 :  48432\n",
      " 35 :  101811\n",
      " 22 :  85859\n",
      " 61 :  26228\n",
      " 28 :  66153\n",
      " 15 :  221\n"
     ]
    }
   ],
   "source": [
    "CountFrequency(age)"
   ]
  },
  {
   "cell_type": "code",
   "execution_count": 27,
   "id": "af65284b",
   "metadata": {
    "scrolled": true
   },
   "outputs": [
    {
     "data": {
      "text/plain": [
       "B     145650\n",
       "W     102927\n",
       "A       5700\n",
       "I       2340\n",
       "U       1283\n",
       "Name: race, dtype: int64"
      ]
     },
     "execution_count": 27,
     "metadata": {},
     "output_type": "execute_result"
    }
   ],
   "source": [
    "d['race'].value_counts()"
   ]
  },
  {
   "cell_type": "code",
   "execution_count": null,
   "id": "e848bad3",
   "metadata": {},
   "outputs": [],
   "source": []
  },
  {
   "cell_type": "code",
   "execution_count": 28,
   "id": "786ac402",
   "metadata": {},
   "outputs": [
    {
     "data": {
      "text/plain": [
       "<matplotlib.legend.Legend at 0x21e35aa6700>"
      ]
     },
     "execution_count": 28,
     "metadata": {},
     "output_type": "execute_result"
    },
    {
     "data": {
      "image/png": "[encoded data removed]",
      "text/plain": [
       "<Figure size 1080x576 with 1 Axes>"
      ]
     },
     "metadata": {
      "needs_background": "light"
     },
     "output_type": "display_data"
    }
   ],
   "source": [
    "fig, ax = plt.subplots(figsize=(15,8))\n",
    "ax.set_xlim(15, 100)\n",
    "for race in d['race'].unique():\n",
    "    s = d[d['race'] == race]['age']\n",
    "    s.plot.kde(ax=ax, label=race)\n",
    "ax.legend(['Black','White','American Indian','Asian','Unknown'])"
   ]
  },
  {
   "cell_type": "markdown",
   "id": "d36c59cf",
   "metadata": {},
   "source": [
    "## Gender(Citation vs warning)"
   ]
  },
  {
   "cell_type": "code",
   "execution_count": 29,
   "id": "066aead1",
   "metadata": {},
   "outputs": [],
   "source": [
    "#Citation vs warning for gender"
   ]
  },
  {
   "cell_type": "code",
   "execution_count": 30,
   "id": "6e54a8a1",
   "metadata": {},
   "outputs": [
    {
     "data": {
      "text/plain": [
       "M    266082\n",
       "F    164965\n",
       "          1\n",
       "U         1\n",
       "Name: DRIVER_GENDER, dtype: int64"
      ]
     },
     "execution_count": 30,
     "metadata": {},
     "output_type": "execute_result"
    }
   ],
   "source": [
    "c['DRIVER_GENDER'].value_counts()"
   ]
  },
  {
   "cell_type": "code",
   "execution_count": 31,
   "id": "cb1600b4",
   "metadata": {
    "scrolled": false
   },
   "outputs": [
    {
     "data": {
      "text/plain": [
       "CITATION ISSUED    392954\n",
       "WARNING             38137\n",
       "Name: ACTIVITY RESULTS, dtype: int64"
      ]
     },
     "execution_count": 31,
     "metadata": {},
     "output_type": "execute_result"
    }
   ],
   "source": [
    "c['ACTIVITY RESULTS'].value_counts()"
   ]
  },
  {
   "cell_type": "code",
   "execution_count": 32,
   "id": "5569b72d",
   "metadata": {},
   "outputs": [],
   "source": [
    "c.drop(c.index[c['DRIVER_GENDER'] == ' '], inplace=True)\n",
    "c.drop(c.index[c['DRIVER_GENDER'] == 'U'], inplace=True)"
   ]
  },
  {
   "cell_type": "code",
   "execution_count": 33,
   "id": "9153dfef",
   "metadata": {},
   "outputs": [
    {
     "data": {
      "text/plain": [
       "M    266082\n",
       "F    164965\n",
       "Name: DRIVER_GENDER, dtype: int64"
      ]
     },
     "execution_count": 33,
     "metadata": {},
     "output_type": "execute_result"
    }
   ],
   "source": [
    "c['DRIVER_GENDER'].value_counts()"
   ]
  },
  {
   "cell_type": "code",
   "execution_count": 34,
   "id": "97849149",
   "metadata": {},
   "outputs": [
    {
     "data": {
      "text/plain": [
       "WRITTEN WARNING    183672\n",
       "CITATION ISSUED     66518\n",
       "NO ACTION TAKEN      4478\n",
       "ON-VIEW ARREST       3232\n",
       "Name: eDesc, dtype: int64"
      ]
     },
     "execution_count": 34,
     "metadata": {},
     "output_type": "execute_result"
    }
   ],
   "source": [
    "d['eDesc'].value_counts()"
   ]
  },
  {
   "cell_type": "code",
   "execution_count": 35,
   "id": "36754dbc",
   "metadata": {},
   "outputs": [],
   "source": [
    "d.drop(d.index[d['eDesc'] == 'NO ACTION TAKEN'], inplace=True)\n",
    "d.drop(d.index[d['eDesc'] == 'ON-VIEW ARREST'], inplace=True)"
   ]
  },
  {
   "cell_type": "code",
   "execution_count": 36,
   "id": "0e1345dd",
   "metadata": {},
   "outputs": [
    {
     "data": {
      "text/plain": [
       "WRITTEN WARNING    183672\n",
       "CITATION ISSUED     66518\n",
       "Name: eDesc, dtype: int64"
      ]
     },
     "execution_count": 36,
     "metadata": {},
     "output_type": "execute_result"
    }
   ],
   "source": [
    "d['eDesc'].value_counts()\n"
   ]
  },
  {
   "cell_type": "code",
   "execution_count": 37,
   "id": "546193c5",
   "metadata": {
    "scrolled": true
   },
   "outputs": [
    {
     "ename": "NameError",
     "evalue": "name 'compute_outcome_stats' is not defined",
     "output_type": "error",
     "traceback": [
      "\u001b[1;31m---------------------------------------------------------------------------\u001b[0m",
      "\u001b[1;31mNameError\u001b[0m                                 Traceback (most recent call last)",
      "\u001b[1;32m<ipython-input-37-34b1887328d1>\u001b[0m in \u001b[0;36m<module>\u001b[1;34m\u001b[0m\n\u001b[1;32m----> 1\u001b[1;33m \u001b[0mrace_agg\u001b[0m \u001b[1;33m=\u001b[0m \u001b[0mc\u001b[0m\u001b[1;33m.\u001b[0m\u001b[0mgroupby\u001b[0m\u001b[1;33m(\u001b[0m\u001b[1;33m[\u001b[0m\u001b[1;34m'DRIVER_GENDER'\u001b[0m\u001b[1;33m]\u001b[0m\u001b[1;33m)\u001b[0m\u001b[1;33m.\u001b[0m\u001b[0mapply\u001b[0m\u001b[1;33m(\u001b[0m\u001b[0mcompute_outcome_stats\u001b[0m\u001b[1;33m)\u001b[0m\u001b[1;33m\u001b[0m\u001b[1;33m\u001b[0m\u001b[0m\n\u001b[0m",
      "\u001b[1;31mNameError\u001b[0m: name 'compute_outcome_stats' is not defined"
     ]
    }
   ],
   "source": [
    "race_agg = c.groupby(['DRIVER_GENDER']).apply(compute_outcome_stats)"
   ]
  },
  {
   "cell_type": "code",
   "execution_count": null,
   "id": "934dac7c",
   "metadata": {},
   "outputs": [],
   "source": [
    "fig, axes = plt.subplots(nrows=2, ncols=1, figsize=figsize)\n",
    "race_agg['citations_per_warning'].plot.barh(ax=axes[0], figsize=figsize, title=\"Citation Rate By Race\")"
   ]
  },
  {
   "cell_type": "code",
   "execution_count": null,
   "id": "4cafd963",
   "metadata": {},
   "outputs": [],
   "source": [
    "def compute_outcome_stats(df):\n",
    "    \"\"\"Compute statistics regarding the relative quanties of arrests, warnings, and citations\"\"\"\n",
    "    n_total = len(df)\n",
    "    n_warnings = len(df[df['ACTIVITY RESULTS'] == 'WARNING'])\n",
    "    n_citations = len(df[df['ACTIVITY RESULTS'] == 'CITATION ISSUED'])\n",
    "\n",
    "\n",
    "    citations_per_warning = n_citations / n_warnings\n",
    "\n",
    "    return(pd.Series(data = {\n",
    "        'n_total': n_total,\n",
    "        'n_warnings': n_warnings,\n",
    "        'n_citations': n_citations,\n",
    "\n",
    "        'citations_per_warning': citations_per_warning,\n",
    "\n",
    "    }))"
   ]
  },
  {
   "cell_type": "code",
   "execution_count": null,
   "id": "e449f2bb",
   "metadata": {},
   "outputs": [],
   "source": [
    "c.groupby('DRIVER_GENDER').apply(compute_outcome_stats)"
   ]
  },
  {
   "cell_type": "code",
   "execution_count": null,
   "id": "5f7dcc41",
   "metadata": {},
   "outputs": [],
   "source": [
    "def compute_outcome_stats(df):\n",
    "    \"\"\"Compute statistics regarding the relative quanties of arrests, warnings, and citations\"\"\"\n",
    "    n_total = len(df)\n",
    "    n_warnings = len(df[df['eDesc'] == 'WRITTEN WARNING'])\n",
    "    n_citations = len(df[df['eDesc'] == 'CITATION ISSUED'])\n",
    "\n",
    "\n",
    "    citations_per_warning = n_citations / n_warnings\n",
    "\n",
    "    return(pd.Series(data = {\n",
    "        'n_total': n_total,\n",
    "        'n_warnings': n_warnings,\n",
    "        'n_citations': n_citations,\n",
    "\n",
    "        'citations_per_warning': citations_per_warning,\n",
    "\n",
    "    }))"
   ]
  },
  {
   "cell_type": "code",
   "execution_count": null,
   "id": "2020d20f",
   "metadata": {},
   "outputs": [],
   "source": [
    "d.groupby('sex').apply(compute_outcome_stats)"
   ]
  },
  {
   "cell_type": "code",
   "execution_count": null,
   "id": "53067332",
   "metadata": {},
   "outputs": [],
   "source": []
  },
  {
   "cell_type": "markdown",
   "id": "e582162d",
   "metadata": {},
   "source": [
    "# Race(Citation vs warning)"
   ]
  },
  {
   "cell_type": "code",
   "execution_count": 38,
   "id": "2240cd6b",
   "metadata": {},
   "outputs": [
    {
     "data": {
      "text/plain": [
       "WHITE                         293540\n",
       "BLACK                         114211\n",
       "HISPANIC                       17387\n",
       "ASIAN                           4301\n",
       "MIDDLE EASTERN DESCENT           568\n",
       "ASIAN/PACIFIC ISLANDER           375\n",
       "AMERICAN INDIAN                  278\n",
       "INDIAN/INDIA/BURMESE             196\n",
       "ALASKAN NATIVE                     9\n",
       "UNKNOWN                            6\n",
       "INDIAN/INDIA/BURMESE               1\n",
       "MIDDLE EASTERN                     1\n",
       "Name: DRIVER_RACE, dtype: int64"
      ]
     },
     "execution_count": 38,
     "metadata": {},
     "output_type": "execute_result"
    }
   ],
   "source": [
    "c1['DRIVER_RACE'].value_counts()"
   ]
  },
  {
   "cell_type": "code",
   "execution_count": 39,
   "id": "22af2785",
   "metadata": {},
   "outputs": [
    {
     "data": {
      "text/plain": [
       "B     140966\n",
       "W     100166\n",
       "A       5568\n",
       "I       2251\n",
       "U       1239\n",
       "Name: race, dtype: int64"
      ]
     },
     "execution_count": 39,
     "metadata": {},
     "output_type": "execute_result"
    }
   ],
   "source": [
    "d['race'].value_counts()"
   ]
  },
  {
   "cell_type": "markdown",
   "id": "f2334083",
   "metadata": {},
   "source": [
    "## Logistic Regression"
   ]
  },
  {
   "cell_type": "markdown",
   "id": "d22a73ba",
   "metadata": {},
   "source": [
    "# DATASET1"
   ]
  },
  {
   "cell_type": "code",
   "execution_count": 40,
   "id": "0c9c9510",
   "metadata": {},
   "outputs": [],
   "source": [
    "import pandas as pd\n",
    "import numpy as np\n",
    "df=pd.read_csv(\"CSVs/LMPD_STOPS_DATA.csv\",low_memory=False)"
   ]
  },
  {
   "cell_type": "code",
   "execution_count": 41,
   "id": "2e4e44f1",
   "metadata": {},
   "outputs": [
    {
     "data": {
      "text/html": [
       "<div>\n",
       "<style scoped>\n",
       "    .dataframe tbody tr th:only-of-type {\n",
       "        vertical-align: middle;\n",
       "    }\n",
       "\n",
       "    .dataframe tbody tr th {\n",
       "        vertical-align: top;\n",
       "    }\n",
       "\n",
       "    .dataframe thead th {\n",
       "        text-align: right;\n",
       "    }\n",
       "</style>\n",
       "<table border=\"1\" class=\"dataframe\">\n",
       "  <thead>\n",
       "    <tr style=\"text-align: right;\">\n",
       "      <th></th>\n",
       "      <th>TYPE_OF_STOP</th>\n",
       "      <th>CITATION_CONTROL_NUMBER</th>\n",
       "      <th>ACTIVITY RESULTS</th>\n",
       "      <th>OFFICER_GENDER</th>\n",
       "      <th>OFFICER_RACE</th>\n",
       "      <th>OFFICER_AGE_RANGE</th>\n",
       "      <th>ACTIVITY_DATE</th>\n",
       "      <th>ACTIVITY_TIME</th>\n",
       "      <th>ACTIVITY_LOCATION</th>\n",
       "      <th>ACTIVITY_DIVISION</th>\n",
       "      <th>ACTIVITY_BEAT</th>\n",
       "      <th>DRIVER_GENDER</th>\n",
       "      <th>DRIVER_RACE</th>\n",
       "      <th>DRIVER_AGE_RANGE</th>\n",
       "      <th>NUMBER OF PASSENGERS</th>\n",
       "      <th>WAS_VEHCILE_SEARCHED</th>\n",
       "      <th>REASON_FOR_SEARCH</th>\n",
       "    </tr>\n",
       "  </thead>\n",
       "  <tbody>\n",
       "    <tr>\n",
       "      <th>0</th>\n",
       "      <td>TRAFFIC VIOLATION</td>\n",
       "      <td>0</td>\n",
       "      <td>WARNING</td>\n",
       "      <td>M</td>\n",
       "      <td>WHITE</td>\n",
       "      <td>21 - 30</td>\n",
       "      <td>04/21/2018</td>\n",
       "      <td>22:58:00</td>\n",
       "      <td>BARDSTOWN RD/ WOODBORNE</td>\n",
       "      <td>5TH DIVISION</td>\n",
       "      <td>BEAT 3</td>\n",
       "      <td>M</td>\n",
       "      <td>WHITE</td>\n",
       "      <td>16 - 19</td>\n",
       "      <td>4</td>\n",
       "      <td>NO</td>\n",
       "      <td>NaN</td>\n",
       "    </tr>\n",
       "    <tr>\n",
       "      <th>1</th>\n",
       "      <td>TRAFFIC VIOLATION</td>\n",
       "      <td>AO22527</td>\n",
       "      <td>CITATION ISSUED</td>\n",
       "      <td>M</td>\n",
       "      <td>WHITE</td>\n",
       "      <td>50 - 60</td>\n",
       "      <td>07/04/2009</td>\n",
       "      <td>09:47:00</td>\n",
       "      <td>I 0065                                        ...</td>\n",
       "      <td>7TH DIVISION</td>\n",
       "      <td>BEAT 6</td>\n",
       "      <td>M</td>\n",
       "      <td>WHITE</td>\n",
       "      <td>41 - 50</td>\n",
       "      <td>0</td>\n",
       "      <td>NO</td>\n",
       "      <td></td>\n",
       "    </tr>\n",
       "    <tr>\n",
       "      <th>2</th>\n",
       "      <td>TRAFFIC VIOLATION</td>\n",
       "      <td>CW61363</td>\n",
       "      <td>CITATION ISSUED</td>\n",
       "      <td>M</td>\n",
       "      <td>BLACK</td>\n",
       "      <td>OVER 60</td>\n",
       "      <td>05/26/2018</td>\n",
       "      <td>23:02:00</td>\n",
       "      <td>I 0264                                        ...</td>\n",
       "      <td>4TH DIVISION</td>\n",
       "      <td>BEAT 4</td>\n",
       "      <td>M</td>\n",
       "      <td>BLACK</td>\n",
       "      <td>51 - 60</td>\n",
       "      <td>0</td>\n",
       "      <td>NO</td>\n",
       "      <td>NaN</td>\n",
       "    </tr>\n",
       "    <tr>\n",
       "      <th>3</th>\n",
       "      <td>TRAFFIC VIOLATION</td>\n",
       "      <td>AO84273</td>\n",
       "      <td>CITATION ISSUED</td>\n",
       "      <td>M</td>\n",
       "      <td>WHITE</td>\n",
       "      <td>50 - 60</td>\n",
       "      <td>09/02/2009</td>\n",
       "      <td>21:35:00</td>\n",
       "      <td>2700 BLOCK  BLOCK OF CRITTENDEN DR-CHEVRON LOT</td>\n",
       "      <td>4TH DIVISION</td>\n",
       "      <td>BEAT 4</td>\n",
       "      <td>M</td>\n",
       "      <td>WHITE</td>\n",
       "      <td>31 - 40</td>\n",
       "      <td>0</td>\n",
       "      <td>NO</td>\n",
       "      <td></td>\n",
       "    </tr>\n",
       "    <tr>\n",
       "      <th>4</th>\n",
       "      <td>TRAFFIC VIOLATION</td>\n",
       "      <td>N258431</td>\n",
       "      <td>CITATION ISSUED</td>\n",
       "      <td>M</td>\n",
       "      <td>BLACK</td>\n",
       "      <td>31 - 40</td>\n",
       "      <td>02/10/2016</td>\n",
       "      <td>19:15:00</td>\n",
       "      <td>POPLAR LEVEL/264</td>\n",
       "      <td>6TH DIVISION</td>\n",
       "      <td>BEAT 2</td>\n",
       "      <td>M</td>\n",
       "      <td>WHITE</td>\n",
       "      <td>41 - 50</td>\n",
       "      <td>0</td>\n",
       "      <td>NO</td>\n",
       "      <td>NaN</td>\n",
       "    </tr>\n",
       "  </tbody>\n",
       "</table>\n",
       "</div>"
      ],
      "text/plain": [
       "        TYPE_OF_STOP CITATION_CONTROL_NUMBER ACTIVITY RESULTS OFFICER_GENDER  \\\n",
       "0  TRAFFIC VIOLATION                       0          WARNING              M   \n",
       "1  TRAFFIC VIOLATION            AO22527       CITATION ISSUED              M   \n",
       "2  TRAFFIC VIOLATION            CW61363       CITATION ISSUED              M   \n",
       "3  TRAFFIC VIOLATION            AO84273       CITATION ISSUED              M   \n",
       "4  TRAFFIC VIOLATION                 N258431  CITATION ISSUED              M   \n",
       "\n",
       "  OFFICER_RACE OFFICER_AGE_RANGE ACTIVITY_DATE ACTIVITY_TIME  \\\n",
       "0        WHITE           21 - 30    04/21/2018      22:58:00   \n",
       "1        WHITE           50 - 60    07/04/2009      09:47:00   \n",
       "2        BLACK           OVER 60    05/26/2018      23:02:00   \n",
       "3        WHITE           50 - 60    09/02/2009      21:35:00   \n",
       "4        BLACK           31 - 40    02/10/2016      19:15:00   \n",
       "\n",
       "                                   ACTIVITY_LOCATION ACTIVITY_DIVISION  \\\n",
       "0                            BARDSTOWN RD/ WOODBORNE      5TH DIVISION   \n",
       "1  I 0065                                        ...      7TH DIVISION   \n",
       "2  I 0264                                        ...      4TH DIVISION   \n",
       "3     2700 BLOCK  BLOCK OF CRITTENDEN DR-CHEVRON LOT      4TH DIVISION   \n",
       "4                                   POPLAR LEVEL/264      6TH DIVISION   \n",
       "\n",
       "  ACTIVITY_BEAT DRIVER_GENDER DRIVER_RACE DRIVER_AGE_RANGE  \\\n",
       "0        BEAT 3             M       WHITE          16 - 19   \n",
       "1        BEAT 6             M       WHITE          41 - 50   \n",
       "2        BEAT 4             M       BLACK          51 - 60   \n",
       "3        BEAT 4             M       WHITE          31 - 40   \n",
       "4        BEAT 2             M       WHITE          41 - 50   \n",
       "\n",
       "   NUMBER OF PASSENGERS WAS_VEHCILE_SEARCHED REASON_FOR_SEARCH  \n",
       "0                     4                   NO               NaN  \n",
       "1                     0                   NO                    \n",
       "2                     0                   NO               NaN  \n",
       "3                     0                   NO                    \n",
       "4                     0                   NO               NaN  "
      ]
     },
     "execution_count": 41,
     "metadata": {},
     "output_type": "execute_result"
    }
   ],
   "source": [
    "df.head()"
   ]
  },
  {
   "cell_type": "code",
   "execution_count": 42,
   "id": "8fdf542a",
   "metadata": {},
   "outputs": [],
   "source": [
    "feature_cols=['OFFICER_GENDER','OFFICER_RACE','OFFICER_AGE_RANGE','ACTIVITY_DATE','ACTIVITY_TIME','DRIVER_GENDER','DRIVER_RACE','DRIVER_AGE_RANGE','NUMBER OF PASSENGERS']"
   ]
  },
  {
   "cell_type": "code",
   "execution_count": 43,
   "id": "7c8643a2",
   "metadata": {},
   "outputs": [],
   "source": [
    "df.drop([\"TYPE_OF_STOP\",'CITATION_CONTROL_NUMBER','ACTIVITY_LOCATION','ACTIVITY_DIVISION','WAS_VEHCILE_SEARCHED','REASON_FOR_SEARCH'], axis=1, inplace=True)"
   ]
  },
  {
   "cell_type": "code",
   "execution_count": 44,
   "id": "e6551f99",
   "metadata": {},
   "outputs": [
    {
     "data": {
      "text/html": [
       "<div>\n",
       "<style scoped>\n",
       "    .dataframe tbody tr th:only-of-type {\n",
       "        vertical-align: middle;\n",
       "    }\n",
       "\n",
       "    .dataframe tbody tr th {\n",
       "        vertical-align: top;\n",
       "    }\n",
       "\n",
       "    .dataframe thead th {\n",
       "        text-align: right;\n",
       "    }\n",
       "</style>\n",
       "<table border=\"1\" class=\"dataframe\">\n",
       "  <thead>\n",
       "    <tr style=\"text-align: right;\">\n",
       "      <th></th>\n",
       "      <th>ACTIVITY RESULTS</th>\n",
       "      <th>OFFICER_GENDER</th>\n",
       "      <th>OFFICER_RACE</th>\n",
       "      <th>OFFICER_AGE_RANGE</th>\n",
       "      <th>ACTIVITY_DATE</th>\n",
       "      <th>ACTIVITY_TIME</th>\n",
       "      <th>ACTIVITY_BEAT</th>\n",
       "      <th>DRIVER_GENDER</th>\n",
       "      <th>DRIVER_RACE</th>\n",
       "      <th>DRIVER_AGE_RANGE</th>\n",
       "      <th>NUMBER OF PASSENGERS</th>\n",
       "    </tr>\n",
       "  </thead>\n",
       "  <tbody>\n",
       "    <tr>\n",
       "      <th>0</th>\n",
       "      <td>WARNING</td>\n",
       "      <td>M</td>\n",
       "      <td>WHITE</td>\n",
       "      <td>21 - 30</td>\n",
       "      <td>04/21/2018</td>\n",
       "      <td>22:58:00</td>\n",
       "      <td>BEAT 3</td>\n",
       "      <td>M</td>\n",
       "      <td>WHITE</td>\n",
       "      <td>16 - 19</td>\n",
       "      <td>4</td>\n",
       "    </tr>\n",
       "    <tr>\n",
       "      <th>1</th>\n",
       "      <td>CITATION ISSUED</td>\n",
       "      <td>M</td>\n",
       "      <td>WHITE</td>\n",
       "      <td>50 - 60</td>\n",
       "      <td>07/04/2009</td>\n",
       "      <td>09:47:00</td>\n",
       "      <td>BEAT 6</td>\n",
       "      <td>M</td>\n",
       "      <td>WHITE</td>\n",
       "      <td>41 - 50</td>\n",
       "      <td>0</td>\n",
       "    </tr>\n",
       "    <tr>\n",
       "      <th>2</th>\n",
       "      <td>CITATION ISSUED</td>\n",
       "      <td>M</td>\n",
       "      <td>BLACK</td>\n",
       "      <td>OVER 60</td>\n",
       "      <td>05/26/2018</td>\n",
       "      <td>23:02:00</td>\n",
       "      <td>BEAT 4</td>\n",
       "      <td>M</td>\n",
       "      <td>BLACK</td>\n",
       "      <td>51 - 60</td>\n",
       "      <td>0</td>\n",
       "    </tr>\n",
       "    <tr>\n",
       "      <th>3</th>\n",
       "      <td>CITATION ISSUED</td>\n",
       "      <td>M</td>\n",
       "      <td>WHITE</td>\n",
       "      <td>50 - 60</td>\n",
       "      <td>09/02/2009</td>\n",
       "      <td>21:35:00</td>\n",
       "      <td>BEAT 4</td>\n",
       "      <td>M</td>\n",
       "      <td>WHITE</td>\n",
       "      <td>31 - 40</td>\n",
       "      <td>0</td>\n",
       "    </tr>\n",
       "    <tr>\n",
       "      <th>4</th>\n",
       "      <td>CITATION ISSUED</td>\n",
       "      <td>M</td>\n",
       "      <td>BLACK</td>\n",
       "      <td>31 - 40</td>\n",
       "      <td>02/10/2016</td>\n",
       "      <td>19:15:00</td>\n",
       "      <td>BEAT 2</td>\n",
       "      <td>M</td>\n",
       "      <td>WHITE</td>\n",
       "      <td>41 - 50</td>\n",
       "      <td>0</td>\n",
       "    </tr>\n",
       "  </tbody>\n",
       "</table>\n",
       "</div>"
      ],
      "text/plain": [
       "  ACTIVITY RESULTS OFFICER_GENDER OFFICER_RACE OFFICER_AGE_RANGE  \\\n",
       "0          WARNING              M        WHITE           21 - 30   \n",
       "1  CITATION ISSUED              M        WHITE           50 - 60   \n",
       "2  CITATION ISSUED              M        BLACK           OVER 60   \n",
       "3  CITATION ISSUED              M        WHITE           50 - 60   \n",
       "4  CITATION ISSUED              M        BLACK           31 - 40   \n",
       "\n",
       "  ACTIVITY_DATE ACTIVITY_TIME ACTIVITY_BEAT DRIVER_GENDER DRIVER_RACE  \\\n",
       "0    04/21/2018      22:58:00        BEAT 3             M       WHITE   \n",
       "1    07/04/2009      09:47:00        BEAT 6             M       WHITE   \n",
       "2    05/26/2018      23:02:00        BEAT 4             M       BLACK   \n",
       "3    09/02/2009      21:35:00        BEAT 4             M       WHITE   \n",
       "4    02/10/2016      19:15:00        BEAT 2             M       WHITE   \n",
       "\n",
       "  DRIVER_AGE_RANGE  NUMBER OF PASSENGERS  \n",
       "0          16 - 19                     4  \n",
       "1          41 - 50                     0  \n",
       "2          51 - 60                     0  \n",
       "3          31 - 40                     0  \n",
       "4          41 - 50                     0  "
      ]
     },
     "execution_count": 44,
     "metadata": {},
     "output_type": "execute_result"
    }
   ],
   "source": [
    "df.head()"
   ]
  },
  {
   "cell_type": "code",
   "execution_count": 45,
   "id": "23f9839e",
   "metadata": {},
   "outputs": [],
   "source": [
    "df.drop('ACTIVITY_BEAT',axis=1,inplace=True)"
   ]
  },
  {
   "cell_type": "code",
   "execution_count": 46,
   "id": "a2747322",
   "metadata": {},
   "outputs": [
    {
     "data": {
      "text/html": [
       "<div>\n",
       "<style scoped>\n",
       "    .dataframe tbody tr th:only-of-type {\n",
       "        vertical-align: middle;\n",
       "    }\n",
       "\n",
       "    .dataframe tbody tr th {\n",
       "        vertical-align: top;\n",
       "    }\n",
       "\n",
       "    .dataframe thead th {\n",
       "        text-align: right;\n",
       "    }\n",
       "</style>\n",
       "<table border=\"1\" class=\"dataframe\">\n",
       "  <thead>\n",
       "    <tr style=\"text-align: right;\">\n",
       "      <th></th>\n",
       "      <th>ACTIVITY RESULTS</th>\n",
       "      <th>OFFICER_GENDER</th>\n",
       "      <th>OFFICER_RACE</th>\n",
       "      <th>OFFICER_AGE_RANGE</th>\n",
       "      <th>ACTIVITY_DATE</th>\n",
       "      <th>ACTIVITY_TIME</th>\n",
       "      <th>DRIVER_GENDER</th>\n",
       "      <th>DRIVER_RACE</th>\n",
       "      <th>DRIVER_AGE_RANGE</th>\n",
       "      <th>NUMBER OF PASSENGERS</th>\n",
       "    </tr>\n",
       "  </thead>\n",
       "  <tbody>\n",
       "    <tr>\n",
       "      <th>0</th>\n",
       "      <td>WARNING</td>\n",
       "      <td>M</td>\n",
       "      <td>WHITE</td>\n",
       "      <td>21 - 30</td>\n",
       "      <td>04/21/2018</td>\n",
       "      <td>22:58:00</td>\n",
       "      <td>M</td>\n",
       "      <td>WHITE</td>\n",
       "      <td>16 - 19</td>\n",
       "      <td>4</td>\n",
       "    </tr>\n",
       "    <tr>\n",
       "      <th>1</th>\n",
       "      <td>CITATION ISSUED</td>\n",
       "      <td>M</td>\n",
       "      <td>WHITE</td>\n",
       "      <td>50 - 60</td>\n",
       "      <td>07/04/2009</td>\n",
       "      <td>09:47:00</td>\n",
       "      <td>M</td>\n",
       "      <td>WHITE</td>\n",
       "      <td>41 - 50</td>\n",
       "      <td>0</td>\n",
       "    </tr>\n",
       "    <tr>\n",
       "      <th>2</th>\n",
       "      <td>CITATION ISSUED</td>\n",
       "      <td>M</td>\n",
       "      <td>BLACK</td>\n",
       "      <td>OVER 60</td>\n",
       "      <td>05/26/2018</td>\n",
       "      <td>23:02:00</td>\n",
       "      <td>M</td>\n",
       "      <td>BLACK</td>\n",
       "      <td>51 - 60</td>\n",
       "      <td>0</td>\n",
       "    </tr>\n",
       "    <tr>\n",
       "      <th>3</th>\n",
       "      <td>CITATION ISSUED</td>\n",
       "      <td>M</td>\n",
       "      <td>WHITE</td>\n",
       "      <td>50 - 60</td>\n",
       "      <td>09/02/2009</td>\n",
       "      <td>21:35:00</td>\n",
       "      <td>M</td>\n",
       "      <td>WHITE</td>\n",
       "      <td>31 - 40</td>\n",
       "      <td>0</td>\n",
       "    </tr>\n",
       "    <tr>\n",
       "      <th>4</th>\n",
       "      <td>CITATION ISSUED</td>\n",
       "      <td>M</td>\n",
       "      <td>BLACK</td>\n",
       "      <td>31 - 40</td>\n",
       "      <td>02/10/2016</td>\n",
       "      <td>19:15:00</td>\n",
       "      <td>M</td>\n",
       "      <td>WHITE</td>\n",
       "      <td>41 - 50</td>\n",
       "      <td>0</td>\n",
       "    </tr>\n",
       "  </tbody>\n",
       "</table>\n",
       "</div>"
      ],
      "text/plain": [
       "  ACTIVITY RESULTS OFFICER_GENDER OFFICER_RACE OFFICER_AGE_RANGE  \\\n",
       "0          WARNING              M        WHITE           21 - 30   \n",
       "1  CITATION ISSUED              M        WHITE           50 - 60   \n",
       "2  CITATION ISSUED              M        BLACK           OVER 60   \n",
       "3  CITATION ISSUED              M        WHITE           50 - 60   \n",
       "4  CITATION ISSUED              M        BLACK           31 - 40   \n",
       "\n",
       "  ACTIVITY_DATE ACTIVITY_TIME DRIVER_GENDER DRIVER_RACE DRIVER_AGE_RANGE  \\\n",
       "0    04/21/2018      22:58:00             M       WHITE          16 - 19   \n",
       "1    07/04/2009      09:47:00             M       WHITE          41 - 50   \n",
       "2    05/26/2018      23:02:00             M       BLACK          51 - 60   \n",
       "3    09/02/2009      21:35:00             M       WHITE          31 - 40   \n",
       "4    02/10/2016      19:15:00             M       WHITE          41 - 50   \n",
       "\n",
       "   NUMBER OF PASSENGERS  \n",
       "0                     4  \n",
       "1                     0  \n",
       "2                     0  \n",
       "3                     0  \n",
       "4                     0  "
      ]
     },
     "execution_count": 46,
     "metadata": {},
     "output_type": "execute_result"
    }
   ],
   "source": [
    "df.head()"
   ]
  },
  {
   "cell_type": "code",
   "execution_count": 47,
   "id": "ee3e6157",
   "metadata": {},
   "outputs": [],
   "source": [
    "df=df.dropna()"
   ]
  },
  {
   "cell_type": "code",
   "execution_count": 48,
   "id": "24dd0511",
   "metadata": {},
   "outputs": [
    {
     "data": {
      "text/plain": [
       "array(['M', 'F'], dtype=object)"
      ]
     },
     "execution_count": 48,
     "metadata": {},
     "output_type": "execute_result"
    }
   ],
   "source": [
    "df['OFFICER_GENDER'].unique()"
   ]
  },
  {
   "cell_type": "code",
   "execution_count": 49,
   "id": "d0aaa5d1",
   "metadata": {},
   "outputs": [
    {
     "data": {
      "text/plain": [
       "M    407441\n",
       "F     18374\n",
       "Name: OFFICER_GENDER, dtype: int64"
      ]
     },
     "execution_count": 49,
     "metadata": {},
     "output_type": "execute_result"
    }
   ],
   "source": [
    "df['OFFICER_GENDER'].value_counts()"
   ]
  },
  {
   "cell_type": "code",
   "execution_count": 50,
   "id": "69dceeab",
   "metadata": {},
   "outputs": [
    {
     "data": {
      "text/plain": [
       "array(['WHITE', 'BLACK', 'ASIAN', 'HISPANIC', 'UNKNOWN'], dtype=object)"
      ]
     },
     "execution_count": 50,
     "metadata": {},
     "output_type": "execute_result"
    }
   ],
   "source": [
    "df['OFFICER_RACE'].unique()"
   ]
  },
  {
   "cell_type": "code",
   "execution_count": 51,
   "id": "7a2922c2",
   "metadata": {},
   "outputs": [
    {
     "data": {
      "text/plain": [
       "WHITE       330846\n",
       "BLACK        87013\n",
       "ASIAN         5083\n",
       "HISPANIC      2751\n",
       "UNKNOWN        122\n",
       "Name: OFFICER_RACE, dtype: int64"
      ]
     },
     "execution_count": 51,
     "metadata": {},
     "output_type": "execute_result"
    }
   ],
   "source": [
    "df['OFFICER_RACE'].value_counts()"
   ]
  },
  {
   "cell_type": "code",
   "execution_count": 52,
   "id": "892742e6",
   "metadata": {},
   "outputs": [
    {
     "data": {
      "text/plain": [
       "50 - 60    186687\n",
       "40 - 50    134383\n",
       "OVER 60     58394\n",
       "31 - 40     42337\n",
       "21 - 30      4014\n",
       "Name: OFFICER_AGE_RANGE, dtype: int64"
      ]
     },
     "execution_count": 52,
     "metadata": {},
     "output_type": "execute_result"
    }
   ],
   "source": [
    "df['OFFICER_AGE_RANGE'].value_counts()\n"
   ]
  },
  {
   "cell_type": "code",
   "execution_count": 53,
   "id": "10e0da7e",
   "metadata": {},
   "outputs": [
    {
     "data": {
      "text/plain": [
       "WHITE                         290679\n",
       "BLACK                         112349\n",
       "HISPANIC                       17133\n",
       "ASIAN                           4273\n",
       "MIDDLE EASTERN DESCENT           546\n",
       "ASIAN/PACIFIC ISLANDER           354\n",
       "AMERICAN INDIAN                  276\n",
       "INDIAN/INDIA/BURMESE             190\n",
       "ALASKAN NATIVE                     7\n",
       "UNKNOWN                            6\n",
       "INDIAN/INDIA/BURMESE               1\n",
       "MIDDLE EASTERN                     1\n",
       "Name: DRIVER_RACE, dtype: int64"
      ]
     },
     "execution_count": 53,
     "metadata": {},
     "output_type": "execute_result"
    }
   ],
   "source": [
    "df['DRIVER_RACE'].value_counts()"
   ]
  },
  {
   "cell_type": "code",
   "execution_count": 54,
   "id": "8d796bf5",
   "metadata": {},
   "outputs": [],
   "source": [
    "c1= c[c['DRIVER_AGE_RANGE'].notnull()]\n",
    "age=[]\n",
    "for i in c1['DRIVER_AGE_RANGE']:\n",
    "    if i==('UNDER 16'):\n",
    "        age.append(15)\n",
    "    elif i==('OVER 60'):\n",
    "        age.append(61)\n",
    "    else:\n",
    "        x= str(i).split(\" - \")\n",
    "        x1=(int(x[0])+int(x[1]))/2\n",
    "        age.append(x1)\n",
    "   \n",
    "        \n",
    "\n",
    "    "
   ]
  },
  {
   "cell_type": "code",
   "execution_count": 55,
   "id": "175c0b21",
   "metadata": {},
   "outputs": [
    {
     "data": {
      "text/plain": [
       "array(['16 - 19', '41 - 50', '51 - 60', '31 - 40', '20 - 25', 'OVER 60',\n",
       "       '26 - 30', 'UNDER 16'], dtype=object)"
      ]
     },
     "execution_count": 55,
     "metadata": {},
     "output_type": "execute_result"
    }
   ],
   "source": [
    "df['DRIVER_AGE_RANGE'].unique()"
   ]
  },
  {
   "cell_type": "code",
   "execution_count": 56,
   "id": "da2191f8",
   "metadata": {},
   "outputs": [],
   "source": [
    "import numpy as np"
   ]
  },
  {
   "cell_type": "code",
   "execution_count": 57,
   "id": "1cdd3a38",
   "metadata": {},
   "outputs": [],
   "source": [
    "df['DRIVER_AGE_RANGE']=np.where(df['DRIVER_AGE_RANGE'] =='31 - 40', '35', df['DRIVER_AGE_RANGE'])\n",
    "df['DRIVER_AGE_RANGE']=np.where(df['DRIVER_AGE_RANGE'] =='51 - 60', '55', df['DRIVER_AGE_RANGE'])\n",
    "df['DRIVER_AGE_RANGE']=np.where(df['DRIVER_AGE_RANGE'] =='41 - 50', '45', df['DRIVER_AGE_RANGE'])\n",
    "df['DRIVER_AGE_RANGE']=np.where(df['DRIVER_AGE_RANGE'] =='OVER 60', '70', df['DRIVER_AGE_RANGE'])\n",
    "df['DRIVER_AGE_RANGE']=np.where(df['DRIVER_AGE_RANGE'] =='20 - 25', '23', df['DRIVER_AGE_RANGE'])\n",
    "df['DRIVER_AGE_RANGE']=np.where(df['DRIVER_AGE_RANGE'] =='UNDER 16', '14', df['DRIVER_AGE_RANGE'])\n",
    "df['DRIVER_AGE_RANGE']=np.where(df['DRIVER_AGE_RANGE'] =='26 - 30', '27', df['DRIVER_AGE_RANGE'])\n",
    "df['DRIVER_AGE_RANGE']=np.where(df['DRIVER_AGE_RANGE'] =='16 - 19', '27', df['DRIVER_AGE_RANGE'])"
   ]
  },
  {
   "cell_type": "code",
   "execution_count": 58,
   "id": "42a95d42",
   "metadata": {},
   "outputs": [
    {
     "data": {
      "text/plain": [
       "35    100606\n",
       "27     93699\n",
       "23     84606\n",
       "45     72658\n",
       "55     47978\n",
       "70     26055\n",
       "14       213\n",
       "Name: DRIVER_AGE_RANGE, dtype: int64"
      ]
     },
     "execution_count": 58,
     "metadata": {},
     "output_type": "execute_result"
    }
   ],
   "source": [
    "df['DRIVER_AGE_RANGE'].value_counts()\n"
   ]
  },
  {
   "cell_type": "code",
   "execution_count": 59,
   "id": "2a9b3df4",
   "metadata": {},
   "outputs": [
    {
     "data": {
      "text/plain": [
       "50 - 60    186687\n",
       "40 - 50    134383\n",
       "OVER 60     58394\n",
       "31 - 40     42337\n",
       "21 - 30      4014\n",
       "Name: OFFICER_AGE_RANGE, dtype: int64"
      ]
     },
     "execution_count": 59,
     "metadata": {},
     "output_type": "execute_result"
    }
   ],
   "source": [
    "df['OFFICER_AGE_RANGE'].value_counts()"
   ]
  },
  {
   "cell_type": "code",
   "execution_count": 60,
   "id": "f2f689d7",
   "metadata": {},
   "outputs": [],
   "source": [
    "df['OFFICER_AGE_RANGE']=np.where(df['OFFICER_AGE_RANGE'] =='31 - 40', '35', df['OFFICER_AGE_RANGE'])\n",
    "df['OFFICER_AGE_RANGE']=np.where(df['OFFICER_AGE_RANGE'] =='50 - 60', '55', df['OFFICER_AGE_RANGE'])\n",
    "df['OFFICER_AGE_RANGE']=np.where(df['OFFICER_AGE_RANGE'] =='40 - 50', '45', df['OFFICER_AGE_RANGE'])\n",
    "\n",
    "df['OFFICER_AGE_RANGE']=np.where(df['OFFICER_AGE_RANGE'] =='OVER 60', '70', df['OFFICER_AGE_RANGE'])\n",
    "df['OFFICER_AGE_RANGE']=np.where(df['OFFICER_AGE_RANGE'] =='21 - 30', '25', df['OFFICER_AGE_RANGE'])\n"
   ]
  },
  {
   "cell_type": "code",
   "execution_count": 61,
   "id": "77d8b670",
   "metadata": {},
   "outputs": [
    {
     "data": {
      "text/plain": [
       "array(['25', '55', '70', '35', '45'], dtype=object)"
      ]
     },
     "execution_count": 61,
     "metadata": {},
     "output_type": "execute_result"
    }
   ],
   "source": [
    "df['OFFICER_AGE_RANGE'].unique()"
   ]
  },
  {
   "cell_type": "code",
   "execution_count": 62,
   "id": "099ecc93",
   "metadata": {},
   "outputs": [
    {
     "data": {
      "text/html": [
       "<div>\n",
       "<style scoped>\n",
       "    .dataframe tbody tr th:only-of-type {\n",
       "        vertical-align: middle;\n",
       "    }\n",
       "\n",
       "    .dataframe tbody tr th {\n",
       "        vertical-align: top;\n",
       "    }\n",
       "\n",
       "    .dataframe thead th {\n",
       "        text-align: right;\n",
       "    }\n",
       "</style>\n",
       "<table border=\"1\" class=\"dataframe\">\n",
       "  <thead>\n",
       "    <tr style=\"text-align: right;\">\n",
       "      <th></th>\n",
       "      <th>date</th>\n",
       "      <th>month</th>\n",
       "    </tr>\n",
       "  </thead>\n",
       "  <tbody>\n",
       "    <tr>\n",
       "      <th>0</th>\n",
       "      <td>2018-04-21</td>\n",
       "      <td>4</td>\n",
       "    </tr>\n",
       "    <tr>\n",
       "      <th>1</th>\n",
       "      <td>2009-04-07</td>\n",
       "      <td>4</td>\n",
       "    </tr>\n",
       "    <tr>\n",
       "      <th>2</th>\n",
       "      <td>2018-05-26</td>\n",
       "      <td>5</td>\n",
       "    </tr>\n",
       "    <tr>\n",
       "      <th>3</th>\n",
       "      <td>2009-02-09</td>\n",
       "      <td>2</td>\n",
       "    </tr>\n",
       "    <tr>\n",
       "      <th>4</th>\n",
       "      <td>2016-10-02</td>\n",
       "      <td>10</td>\n",
       "    </tr>\n",
       "    <tr>\n",
       "      <th>...</th>\n",
       "      <td>...</td>\n",
       "      <td>...</td>\n",
       "    </tr>\n",
       "    <tr>\n",
       "      <th>425810</th>\n",
       "      <td>2014-06-19</td>\n",
       "      <td>6</td>\n",
       "    </tr>\n",
       "    <tr>\n",
       "      <th>425811</th>\n",
       "      <td>2012-05-16</td>\n",
       "      <td>5</td>\n",
       "    </tr>\n",
       "    <tr>\n",
       "      <th>425812</th>\n",
       "      <td>2014-10-19</td>\n",
       "      <td>10</td>\n",
       "    </tr>\n",
       "    <tr>\n",
       "      <th>425813</th>\n",
       "      <td>2009-12-19</td>\n",
       "      <td>12</td>\n",
       "    </tr>\n",
       "    <tr>\n",
       "      <th>425814</th>\n",
       "      <td>2012-02-20</td>\n",
       "      <td>2</td>\n",
       "    </tr>\n",
       "  </tbody>\n",
       "</table>\n",
       "<p>425815 rows × 2 columns</p>\n",
       "</div>"
      ],
      "text/plain": [
       "             date  month\n",
       "0      2018-04-21      4\n",
       "1      2009-04-07      4\n",
       "2      2018-05-26      5\n",
       "3      2009-02-09      2\n",
       "4      2016-10-02     10\n",
       "...           ...    ...\n",
       "425810 2014-06-19      6\n",
       "425811 2012-05-16      5\n",
       "425812 2014-10-19     10\n",
       "425813 2009-12-19     12\n",
       "425814 2012-02-20      2\n",
       "\n",
       "[425815 rows x 2 columns]"
      ]
     },
     "execution_count": 62,
     "metadata": {},
     "output_type": "execute_result"
    }
   ],
   "source": [
    "\n",
    "import datetime\n",
    "import numpy as np\n",
    "dates=list(df['ACTIVITY_DATE'])\n",
    "frame = pd.to_datetime(dates, dayfirst = True)\n",
    "frame = pd.DataFrame([frame]).transpose()\n",
    "frame['date']= frame\n",
    "frame['month']= frame['date'].dt.month\n",
    "frame.drop(0, axis = 1, inplace = True)\n",
    "  \n",
    "frame"
   ]
  },
  {
   "cell_type": "code",
   "execution_count": 63,
   "id": "2950dbf9",
   "metadata": {},
   "outputs": [],
   "source": [
    "df['Month']=frame['month']"
   ]
  },
  {
   "cell_type": "code",
   "execution_count": 64,
   "id": "6b1dbe4d",
   "metadata": {},
   "outputs": [
    {
     "data": {
      "text/html": [
       "<div>\n",
       "<style scoped>\n",
       "    .dataframe tbody tr th:only-of-type {\n",
       "        vertical-align: middle;\n",
       "    }\n",
       "\n",
       "    .dataframe tbody tr th {\n",
       "        vertical-align: top;\n",
       "    }\n",
       "\n",
       "    .dataframe thead th {\n",
       "        text-align: right;\n",
       "    }\n",
       "</style>\n",
       "<table border=\"1\" class=\"dataframe\">\n",
       "  <thead>\n",
       "    <tr style=\"text-align: right;\">\n",
       "      <th></th>\n",
       "      <th>ACTIVITY RESULTS</th>\n",
       "      <th>OFFICER_GENDER</th>\n",
       "      <th>OFFICER_RACE</th>\n",
       "      <th>OFFICER_AGE_RANGE</th>\n",
       "      <th>ACTIVITY_DATE</th>\n",
       "      <th>ACTIVITY_TIME</th>\n",
       "      <th>DRIVER_GENDER</th>\n",
       "      <th>DRIVER_RACE</th>\n",
       "      <th>DRIVER_AGE_RANGE</th>\n",
       "      <th>NUMBER OF PASSENGERS</th>\n",
       "      <th>Month</th>\n",
       "    </tr>\n",
       "  </thead>\n",
       "  <tbody>\n",
       "    <tr>\n",
       "      <th>0</th>\n",
       "      <td>WARNING</td>\n",
       "      <td>M</td>\n",
       "      <td>WHITE</td>\n",
       "      <td>25</td>\n",
       "      <td>04/21/2018</td>\n",
       "      <td>22:58:00</td>\n",
       "      <td>M</td>\n",
       "      <td>WHITE</td>\n",
       "      <td>27</td>\n",
       "      <td>4</td>\n",
       "      <td>4.0</td>\n",
       "    </tr>\n",
       "    <tr>\n",
       "      <th>1</th>\n",
       "      <td>CITATION ISSUED</td>\n",
       "      <td>M</td>\n",
       "      <td>WHITE</td>\n",
       "      <td>55</td>\n",
       "      <td>07/04/2009</td>\n",
       "      <td>09:47:00</td>\n",
       "      <td>M</td>\n",
       "      <td>WHITE</td>\n",
       "      <td>45</td>\n",
       "      <td>0</td>\n",
       "      <td>4.0</td>\n",
       "    </tr>\n",
       "    <tr>\n",
       "      <th>2</th>\n",
       "      <td>CITATION ISSUED</td>\n",
       "      <td>M</td>\n",
       "      <td>BLACK</td>\n",
       "      <td>70</td>\n",
       "      <td>05/26/2018</td>\n",
       "      <td>23:02:00</td>\n",
       "      <td>M</td>\n",
       "      <td>BLACK</td>\n",
       "      <td>55</td>\n",
       "      <td>0</td>\n",
       "      <td>5.0</td>\n",
       "    </tr>\n",
       "    <tr>\n",
       "      <th>3</th>\n",
       "      <td>CITATION ISSUED</td>\n",
       "      <td>M</td>\n",
       "      <td>WHITE</td>\n",
       "      <td>55</td>\n",
       "      <td>09/02/2009</td>\n",
       "      <td>21:35:00</td>\n",
       "      <td>M</td>\n",
       "      <td>WHITE</td>\n",
       "      <td>35</td>\n",
       "      <td>0</td>\n",
       "      <td>2.0</td>\n",
       "    </tr>\n",
       "    <tr>\n",
       "      <th>4</th>\n",
       "      <td>CITATION ISSUED</td>\n",
       "      <td>M</td>\n",
       "      <td>BLACK</td>\n",
       "      <td>35</td>\n",
       "      <td>02/10/2016</td>\n",
       "      <td>19:15:00</td>\n",
       "      <td>M</td>\n",
       "      <td>WHITE</td>\n",
       "      <td>45</td>\n",
       "      <td>0</td>\n",
       "      <td>10.0</td>\n",
       "    </tr>\n",
       "  </tbody>\n",
       "</table>\n",
       "</div>"
      ],
      "text/plain": [
       "  ACTIVITY RESULTS OFFICER_GENDER OFFICER_RACE OFFICER_AGE_RANGE  \\\n",
       "0          WARNING              M        WHITE                25   \n",
       "1  CITATION ISSUED              M        WHITE                55   \n",
       "2  CITATION ISSUED              M        BLACK                70   \n",
       "3  CITATION ISSUED              M        WHITE                55   \n",
       "4  CITATION ISSUED              M        BLACK                35   \n",
       "\n",
       "  ACTIVITY_DATE ACTIVITY_TIME DRIVER_GENDER DRIVER_RACE DRIVER_AGE_RANGE  \\\n",
       "0    04/21/2018      22:58:00             M       WHITE               27   \n",
       "1    07/04/2009      09:47:00             M       WHITE               45   \n",
       "2    05/26/2018      23:02:00             M       BLACK               55   \n",
       "3    09/02/2009      21:35:00             M       WHITE               35   \n",
       "4    02/10/2016      19:15:00             M       WHITE               45   \n",
       "\n",
       "   NUMBER OF PASSENGERS  Month  \n",
       "0                     4    4.0  \n",
       "1                     0    4.0  \n",
       "2                     0    5.0  \n",
       "3                     0    2.0  \n",
       "4                     0   10.0  "
      ]
     },
     "execution_count": 64,
     "metadata": {},
     "output_type": "execute_result"
    }
   ],
   "source": [
    "df.head()"
   ]
  },
  {
   "cell_type": "code",
   "execution_count": 65,
   "id": "6ef3b7f3",
   "metadata": {},
   "outputs": [],
   "source": [
    "frame = pd.to_datetime(dates, dayfirst = True)\n",
    "frame = pd.DataFrame([frame]).transpose()"
   ]
  },
  {
   "cell_type": "code",
   "execution_count": 66,
   "id": "aa7f861f",
   "metadata": {},
   "outputs": [],
   "source": [
    "frame['date']= frame\n",
    "frame['month']= frame['date'].dt.day"
   ]
  },
  {
   "cell_type": "code",
   "execution_count": 67,
   "id": "8559e31d",
   "metadata": {},
   "outputs": [],
   "source": [
    "df['Day']=frame['month']"
   ]
  },
  {
   "cell_type": "code",
   "execution_count": 68,
   "id": "b604afd9",
   "metadata": {},
   "outputs": [],
   "source": [
    "frame['year']=frame['date'].dt.year"
   ]
  },
  {
   "cell_type": "code",
   "execution_count": 69,
   "id": "df32e582",
   "metadata": {},
   "outputs": [],
   "source": [
    "df['Year']=frame['year']"
   ]
  },
  {
   "cell_type": "code",
   "execution_count": 70,
   "id": "9bbfb1cc",
   "metadata": {},
   "outputs": [
    {
     "data": {
      "text/html": [
       "<div>\n",
       "<style scoped>\n",
       "    .dataframe tbody tr th:only-of-type {\n",
       "        vertical-align: middle;\n",
       "    }\n",
       "\n",
       "    .dataframe tbody tr th {\n",
       "        vertical-align: top;\n",
       "    }\n",
       "\n",
       "    .dataframe thead th {\n",
       "        text-align: right;\n",
       "    }\n",
       "</style>\n",
       "<table border=\"1\" class=\"dataframe\">\n",
       "  <thead>\n",
       "    <tr style=\"text-align: right;\">\n",
       "      <th></th>\n",
       "      <th>ACTIVITY RESULTS</th>\n",
       "      <th>OFFICER_GENDER</th>\n",
       "      <th>OFFICER_RACE</th>\n",
       "      <th>OFFICER_AGE_RANGE</th>\n",
       "      <th>ACTIVITY_DATE</th>\n",
       "      <th>ACTIVITY_TIME</th>\n",
       "      <th>DRIVER_GENDER</th>\n",
       "      <th>DRIVER_RACE</th>\n",
       "      <th>DRIVER_AGE_RANGE</th>\n",
       "      <th>NUMBER OF PASSENGERS</th>\n",
       "      <th>Month</th>\n",
       "      <th>Day</th>\n",
       "      <th>Year</th>\n",
       "    </tr>\n",
       "  </thead>\n",
       "  <tbody>\n",
       "    <tr>\n",
       "      <th>0</th>\n",
       "      <td>WARNING</td>\n",
       "      <td>M</td>\n",
       "      <td>WHITE</td>\n",
       "      <td>25</td>\n",
       "      <td>04/21/2018</td>\n",
       "      <td>22:58:00</td>\n",
       "      <td>M</td>\n",
       "      <td>WHITE</td>\n",
       "      <td>27</td>\n",
       "      <td>4</td>\n",
       "      <td>4.0</td>\n",
       "      <td>21.0</td>\n",
       "      <td>2018.0</td>\n",
       "    </tr>\n",
       "    <tr>\n",
       "      <th>1</th>\n",
       "      <td>CITATION ISSUED</td>\n",
       "      <td>M</td>\n",
       "      <td>WHITE</td>\n",
       "      <td>55</td>\n",
       "      <td>07/04/2009</td>\n",
       "      <td>09:47:00</td>\n",
       "      <td>M</td>\n",
       "      <td>WHITE</td>\n",
       "      <td>45</td>\n",
       "      <td>0</td>\n",
       "      <td>4.0</td>\n",
       "      <td>7.0</td>\n",
       "      <td>2009.0</td>\n",
       "    </tr>\n",
       "    <tr>\n",
       "      <th>2</th>\n",
       "      <td>CITATION ISSUED</td>\n",
       "      <td>M</td>\n",
       "      <td>BLACK</td>\n",
       "      <td>70</td>\n",
       "      <td>05/26/2018</td>\n",
       "      <td>23:02:00</td>\n",
       "      <td>M</td>\n",
       "      <td>BLACK</td>\n",
       "      <td>55</td>\n",
       "      <td>0</td>\n",
       "      <td>5.0</td>\n",
       "      <td>26.0</td>\n",
       "      <td>2018.0</td>\n",
       "    </tr>\n",
       "    <tr>\n",
       "      <th>3</th>\n",
       "      <td>CITATION ISSUED</td>\n",
       "      <td>M</td>\n",
       "      <td>WHITE</td>\n",
       "      <td>55</td>\n",
       "      <td>09/02/2009</td>\n",
       "      <td>21:35:00</td>\n",
       "      <td>M</td>\n",
       "      <td>WHITE</td>\n",
       "      <td>35</td>\n",
       "      <td>0</td>\n",
       "      <td>2.0</td>\n",
       "      <td>9.0</td>\n",
       "      <td>2009.0</td>\n",
       "    </tr>\n",
       "    <tr>\n",
       "      <th>4</th>\n",
       "      <td>CITATION ISSUED</td>\n",
       "      <td>M</td>\n",
       "      <td>BLACK</td>\n",
       "      <td>35</td>\n",
       "      <td>02/10/2016</td>\n",
       "      <td>19:15:00</td>\n",
       "      <td>M</td>\n",
       "      <td>WHITE</td>\n",
       "      <td>45</td>\n",
       "      <td>0</td>\n",
       "      <td>10.0</td>\n",
       "      <td>2.0</td>\n",
       "      <td>2016.0</td>\n",
       "    </tr>\n",
       "  </tbody>\n",
       "</table>\n",
       "</div>"
      ],
      "text/plain": [
       "  ACTIVITY RESULTS OFFICER_GENDER OFFICER_RACE OFFICER_AGE_RANGE  \\\n",
       "0          WARNING              M        WHITE                25   \n",
       "1  CITATION ISSUED              M        WHITE                55   \n",
       "2  CITATION ISSUED              M        BLACK                70   \n",
       "3  CITATION ISSUED              M        WHITE                55   \n",
       "4  CITATION ISSUED              M        BLACK                35   \n",
       "\n",
       "  ACTIVITY_DATE ACTIVITY_TIME DRIVER_GENDER DRIVER_RACE DRIVER_AGE_RANGE  \\\n",
       "0    04/21/2018      22:58:00             M       WHITE               27   \n",
       "1    07/04/2009      09:47:00             M       WHITE               45   \n",
       "2    05/26/2018      23:02:00             M       BLACK               55   \n",
       "3    09/02/2009      21:35:00             M       WHITE               35   \n",
       "4    02/10/2016      19:15:00             M       WHITE               45   \n",
       "\n",
       "   NUMBER OF PASSENGERS  Month   Day    Year  \n",
       "0                     4    4.0  21.0  2018.0  \n",
       "1                     0    4.0   7.0  2009.0  \n",
       "2                     0    5.0  26.0  2018.0  \n",
       "3                     0    2.0   9.0  2009.0  \n",
       "4                     0   10.0   2.0  2016.0  "
      ]
     },
     "execution_count": 70,
     "metadata": {},
     "output_type": "execute_result"
    }
   ],
   "source": [
    "df.head()"
   ]
  },
  {
   "cell_type": "code",
   "execution_count": 71,
   "id": "ca164df5",
   "metadata": {},
   "outputs": [],
   "source": [
    "df.dropna(inplace=True)"
   ]
  },
  {
   "cell_type": "code",
   "execution_count": 72,
   "id": "acb6ac49",
   "metadata": {},
   "outputs": [],
   "source": [
    "df.Month=df.Month.astype('int64')\n",
    "df.Day=df.Day.astype('int64')\n",
    "df.Year=df.Year.astype('int64')"
   ]
  },
  {
   "cell_type": "code",
   "execution_count": 73,
   "id": "9513974a",
   "metadata": {},
   "outputs": [
    {
     "data": {
      "text/html": [
       "<div>\n",
       "<style scoped>\n",
       "    .dataframe tbody tr th:only-of-type {\n",
       "        vertical-align: middle;\n",
       "    }\n",
       "\n",
       "    .dataframe tbody tr th {\n",
       "        vertical-align: top;\n",
       "    }\n",
       "\n",
       "    .dataframe thead th {\n",
       "        text-align: right;\n",
       "    }\n",
       "</style>\n",
       "<table border=\"1\" class=\"dataframe\">\n",
       "  <thead>\n",
       "    <tr style=\"text-align: right;\">\n",
       "      <th></th>\n",
       "      <th>ACTIVITY RESULTS</th>\n",
       "      <th>OFFICER_GENDER</th>\n",
       "      <th>OFFICER_RACE</th>\n",
       "      <th>OFFICER_AGE_RANGE</th>\n",
       "      <th>ACTIVITY_DATE</th>\n",
       "      <th>ACTIVITY_TIME</th>\n",
       "      <th>DRIVER_GENDER</th>\n",
       "      <th>DRIVER_RACE</th>\n",
       "      <th>DRIVER_AGE_RANGE</th>\n",
       "      <th>NUMBER OF PASSENGERS</th>\n",
       "      <th>Month</th>\n",
       "      <th>Day</th>\n",
       "      <th>Year</th>\n",
       "    </tr>\n",
       "  </thead>\n",
       "  <tbody>\n",
       "    <tr>\n",
       "      <th>0</th>\n",
       "      <td>WARNING</td>\n",
       "      <td>M</td>\n",
       "      <td>WHITE</td>\n",
       "      <td>25</td>\n",
       "      <td>04/21/2018</td>\n",
       "      <td>22:58:00</td>\n",
       "      <td>M</td>\n",
       "      <td>WHITE</td>\n",
       "      <td>27</td>\n",
       "      <td>4</td>\n",
       "      <td>4</td>\n",
       "      <td>21</td>\n",
       "      <td>2018</td>\n",
       "    </tr>\n",
       "    <tr>\n",
       "      <th>1</th>\n",
       "      <td>CITATION ISSUED</td>\n",
       "      <td>M</td>\n",
       "      <td>WHITE</td>\n",
       "      <td>55</td>\n",
       "      <td>07/04/2009</td>\n",
       "      <td>09:47:00</td>\n",
       "      <td>M</td>\n",
       "      <td>WHITE</td>\n",
       "      <td>45</td>\n",
       "      <td>0</td>\n",
       "      <td>4</td>\n",
       "      <td>7</td>\n",
       "      <td>2009</td>\n",
       "    </tr>\n",
       "    <tr>\n",
       "      <th>2</th>\n",
       "      <td>CITATION ISSUED</td>\n",
       "      <td>M</td>\n",
       "      <td>BLACK</td>\n",
       "      <td>70</td>\n",
       "      <td>05/26/2018</td>\n",
       "      <td>23:02:00</td>\n",
       "      <td>M</td>\n",
       "      <td>BLACK</td>\n",
       "      <td>55</td>\n",
       "      <td>0</td>\n",
       "      <td>5</td>\n",
       "      <td>26</td>\n",
       "      <td>2018</td>\n",
       "    </tr>\n",
       "    <tr>\n",
       "      <th>3</th>\n",
       "      <td>CITATION ISSUED</td>\n",
       "      <td>M</td>\n",
       "      <td>WHITE</td>\n",
       "      <td>55</td>\n",
       "      <td>09/02/2009</td>\n",
       "      <td>21:35:00</td>\n",
       "      <td>M</td>\n",
       "      <td>WHITE</td>\n",
       "      <td>35</td>\n",
       "      <td>0</td>\n",
       "      <td>2</td>\n",
       "      <td>9</td>\n",
       "      <td>2009</td>\n",
       "    </tr>\n",
       "    <tr>\n",
       "      <th>4</th>\n",
       "      <td>CITATION ISSUED</td>\n",
       "      <td>M</td>\n",
       "      <td>BLACK</td>\n",
       "      <td>35</td>\n",
       "      <td>02/10/2016</td>\n",
       "      <td>19:15:00</td>\n",
       "      <td>M</td>\n",
       "      <td>WHITE</td>\n",
       "      <td>45</td>\n",
       "      <td>0</td>\n",
       "      <td>10</td>\n",
       "      <td>2</td>\n",
       "      <td>2016</td>\n",
       "    </tr>\n",
       "  </tbody>\n",
       "</table>\n",
       "</div>"
      ],
      "text/plain": [
       "  ACTIVITY RESULTS OFFICER_GENDER OFFICER_RACE OFFICER_AGE_RANGE  \\\n",
       "0          WARNING              M        WHITE                25   \n",
       "1  CITATION ISSUED              M        WHITE                55   \n",
       "2  CITATION ISSUED              M        BLACK                70   \n",
       "3  CITATION ISSUED              M        WHITE                55   \n",
       "4  CITATION ISSUED              M        BLACK                35   \n",
       "\n",
       "  ACTIVITY_DATE ACTIVITY_TIME DRIVER_GENDER DRIVER_RACE DRIVER_AGE_RANGE  \\\n",
       "0    04/21/2018      22:58:00             M       WHITE               27   \n",
       "1    07/04/2009      09:47:00             M       WHITE               45   \n",
       "2    05/26/2018      23:02:00             M       BLACK               55   \n",
       "3    09/02/2009      21:35:00             M       WHITE               35   \n",
       "4    02/10/2016      19:15:00             M       WHITE               45   \n",
       "\n",
       "   NUMBER OF PASSENGERS  Month  Day  Year  \n",
       "0                     4      4   21  2018  \n",
       "1                     0      4    7  2009  \n",
       "2                     0      5   26  2018  \n",
       "3                     0      2    9  2009  \n",
       "4                     0     10    2  2016  "
      ]
     },
     "execution_count": 73,
     "metadata": {},
     "output_type": "execute_result"
    }
   ],
   "source": [
    "df.head()"
   ]
  },
  {
   "cell_type": "code",
   "execution_count": 74,
   "id": "84ff1425",
   "metadata": {},
   "outputs": [],
   "source": [
    "df.to_csv('new_dataframe.csv',index=False)"
   ]
  },
  {
   "cell_type": "code",
   "execution_count": 75,
   "id": "3a6aa677",
   "metadata": {},
   "outputs": [],
   "source": [
    "df['times']= pd.to_datetime(df['ACTIVITY_TIME'])"
   ]
  },
  {
   "cell_type": "code",
   "execution_count": 76,
   "id": "8d813ddb",
   "metadata": {},
   "outputs": [],
   "source": [
    "df['hour'] = df['times'].dt.hour\n"
   ]
  },
  {
   "cell_type": "code",
   "execution_count": null,
   "id": "9a8e2dbc",
   "metadata": {},
   "outputs": [],
   "source": []
  },
  {
   "cell_type": "code",
   "execution_count": 77,
   "id": "4d5a5c4d",
   "metadata": {},
   "outputs": [
    {
     "data": {
      "text/html": [
       "<div>\n",
       "<style scoped>\n",
       "    .dataframe tbody tr th:only-of-type {\n",
       "        vertical-align: middle;\n",
       "    }\n",
       "\n",
       "    .dataframe tbody tr th {\n",
       "        vertical-align: top;\n",
       "    }\n",
       "\n",
       "    .dataframe thead th {\n",
       "        text-align: right;\n",
       "    }\n",
       "</style>\n",
       "<table border=\"1\" class=\"dataframe\">\n",
       "  <thead>\n",
       "    <tr style=\"text-align: right;\">\n",
       "      <th></th>\n",
       "      <th>ACTIVITY RESULTS</th>\n",
       "      <th>OFFICER_GENDER</th>\n",
       "      <th>OFFICER_RACE</th>\n",
       "      <th>OFFICER_AGE_RANGE</th>\n",
       "      <th>ACTIVITY_DATE</th>\n",
       "      <th>ACTIVITY_TIME</th>\n",
       "      <th>DRIVER_GENDER</th>\n",
       "      <th>DRIVER_RACE</th>\n",
       "      <th>DRIVER_AGE_RANGE</th>\n",
       "      <th>NUMBER OF PASSENGERS</th>\n",
       "      <th>Month</th>\n",
       "      <th>Day</th>\n",
       "      <th>Year</th>\n",
       "      <th>times</th>\n",
       "      <th>hour</th>\n",
       "    </tr>\n",
       "  </thead>\n",
       "  <tbody>\n",
       "    <tr>\n",
       "      <th>0</th>\n",
       "      <td>WARNING</td>\n",
       "      <td>M</td>\n",
       "      <td>WHITE</td>\n",
       "      <td>25</td>\n",
       "      <td>04/21/2018</td>\n",
       "      <td>22:58:00</td>\n",
       "      <td>M</td>\n",
       "      <td>WHITE</td>\n",
       "      <td>27</td>\n",
       "      <td>4</td>\n",
       "      <td>4</td>\n",
       "      <td>21</td>\n",
       "      <td>2018</td>\n",
       "      <td>2022-04-21 22:58:00</td>\n",
       "      <td>22</td>\n",
       "    </tr>\n",
       "    <tr>\n",
       "      <th>1</th>\n",
       "      <td>CITATION ISSUED</td>\n",
       "      <td>M</td>\n",
       "      <td>WHITE</td>\n",
       "      <td>55</td>\n",
       "      <td>07/04/2009</td>\n",
       "      <td>09:47:00</td>\n",
       "      <td>M</td>\n",
       "      <td>WHITE</td>\n",
       "      <td>45</td>\n",
       "      <td>0</td>\n",
       "      <td>4</td>\n",
       "      <td>7</td>\n",
       "      <td>2009</td>\n",
       "      <td>2022-04-21 09:47:00</td>\n",
       "      <td>9</td>\n",
       "    </tr>\n",
       "    <tr>\n",
       "      <th>2</th>\n",
       "      <td>CITATION ISSUED</td>\n",
       "      <td>M</td>\n",
       "      <td>BLACK</td>\n",
       "      <td>70</td>\n",
       "      <td>05/26/2018</td>\n",
       "      <td>23:02:00</td>\n",
       "      <td>M</td>\n",
       "      <td>BLACK</td>\n",
       "      <td>55</td>\n",
       "      <td>0</td>\n",
       "      <td>5</td>\n",
       "      <td>26</td>\n",
       "      <td>2018</td>\n",
       "      <td>2022-04-21 23:02:00</td>\n",
       "      <td>23</td>\n",
       "    </tr>\n",
       "    <tr>\n",
       "      <th>3</th>\n",
       "      <td>CITATION ISSUED</td>\n",
       "      <td>M</td>\n",
       "      <td>WHITE</td>\n",
       "      <td>55</td>\n",
       "      <td>09/02/2009</td>\n",
       "      <td>21:35:00</td>\n",
       "      <td>M</td>\n",
       "      <td>WHITE</td>\n",
       "      <td>35</td>\n",
       "      <td>0</td>\n",
       "      <td>2</td>\n",
       "      <td>9</td>\n",
       "      <td>2009</td>\n",
       "      <td>2022-04-21 21:35:00</td>\n",
       "      <td>21</td>\n",
       "    </tr>\n",
       "    <tr>\n",
       "      <th>4</th>\n",
       "      <td>CITATION ISSUED</td>\n",
       "      <td>M</td>\n",
       "      <td>BLACK</td>\n",
       "      <td>35</td>\n",
       "      <td>02/10/2016</td>\n",
       "      <td>19:15:00</td>\n",
       "      <td>M</td>\n",
       "      <td>WHITE</td>\n",
       "      <td>45</td>\n",
       "      <td>0</td>\n",
       "      <td>10</td>\n",
       "      <td>2</td>\n",
       "      <td>2016</td>\n",
       "      <td>2022-04-21 19:15:00</td>\n",
       "      <td>19</td>\n",
       "    </tr>\n",
       "  </tbody>\n",
       "</table>\n",
       "</div>"
      ],
      "text/plain": [
       "  ACTIVITY RESULTS OFFICER_GENDER OFFICER_RACE OFFICER_AGE_RANGE  \\\n",
       "0          WARNING              M        WHITE                25   \n",
       "1  CITATION ISSUED              M        WHITE                55   \n",
       "2  CITATION ISSUED              M        BLACK                70   \n",
       "3  CITATION ISSUED              M        WHITE                55   \n",
       "4  CITATION ISSUED              M        BLACK                35   \n",
       "\n",
       "  ACTIVITY_DATE ACTIVITY_TIME DRIVER_GENDER DRIVER_RACE DRIVER_AGE_RANGE  \\\n",
       "0    04/21/2018      22:58:00             M       WHITE               27   \n",
       "1    07/04/2009      09:47:00             M       WHITE               45   \n",
       "2    05/26/2018      23:02:00             M       BLACK               55   \n",
       "3    09/02/2009      21:35:00             M       WHITE               35   \n",
       "4    02/10/2016      19:15:00             M       WHITE               45   \n",
       "\n",
       "   NUMBER OF PASSENGERS  Month  Day  Year               times  hour  \n",
       "0                     4      4   21  2018 2022-04-21 22:58:00    22  \n",
       "1                     0      4    7  2009 2022-04-21 09:47:00     9  \n",
       "2                     0      5   26  2018 2022-04-21 23:02:00    23  \n",
       "3                     0      2    9  2009 2022-04-21 21:35:00    21  \n",
       "4                     0     10    2  2016 2022-04-21 19:15:00    19  "
      ]
     },
     "execution_count": 77,
     "metadata": {},
     "output_type": "execute_result"
    }
   ],
   "source": [
    "df.head()"
   ]
  },
  {
   "cell_type": "code",
   "execution_count": 78,
   "id": "38cc1be4",
   "metadata": {},
   "outputs": [
    {
     "ename": "NameError",
     "evalue": "name 'my_df' is not defined",
     "output_type": "error",
     "traceback": [
      "\u001b[1;31m---------------------------------------------------------------------------\u001b[0m",
      "\u001b[1;31mNameError\u001b[0m                                 Traceback (most recent call last)",
      "\u001b[1;32m<ipython-input-78-5b6c1a414cba>\u001b[0m in \u001b[0;36m<module>\u001b[1;34m\u001b[0m\n\u001b[1;32m----> 1\u001b[1;33m \u001b[0mcorrM\u001b[0m \u001b[1;33m=\u001b[0m \u001b[0mmy_df\u001b[0m\u001b[1;33m.\u001b[0m\u001b[0mcorr\u001b[0m\u001b[1;33m(\u001b[0m\u001b[1;33m)\u001b[0m\u001b[1;33m\u001b[0m\u001b[1;33m\u001b[0m\u001b[0m\n\u001b[0m\u001b[0;32m      2\u001b[0m \u001b[0mcorrM\u001b[0m\u001b[1;33m\u001b[0m\u001b[1;33m\u001b[0m\u001b[0m\n",
      "\u001b[1;31mNameError\u001b[0m: name 'my_df' is not defined"
     ]
    }
   ],
   "source": [
    "corrM = my_df.corr()\n",
    "corrM"
   ]
  },
  {
   "cell_type": "code",
   "execution_count": null,
   "id": "018587ca",
   "metadata": {
    "scrolled": false
   },
   "outputs": [],
   "source": [
    "# import packages\n",
    "import pandas as pd\n",
    "import numpy as np\n",
    "import matplotlib.pyplot as plt\n",
    "import seaborn as sns\n",
    "\n",
    "# import data\n",
    "my_df = pd.read_csv(\"CSVs/LMPD_STOPS_DATA.csv\")\n",
    "\n",
    "# run correlation matrix and plot\n",
    "f, ax = plt.subplots(figsize=(10, 8))\n",
    "corr = df.corr()\n",
    "sns.heatmap(corr, mask=np.zeros_like(corr, dtype=np.bool),\n",
    "            cmap=sns.diverging_palette(220, 10, as_cmap=True),\n",
    "            square=True, ax=ax,annot=True)"
   ]
  },
  {
   "cell_type": "code",
   "execution_count": null,
   "id": "795ea02f",
   "metadata": {},
   "outputs": [],
   "source": [
    "df.drop('ACTIVITY_DATE',axis=1,inplace=True)\n",
    "df.drop('ACTIVITY_TIME',axis=1,inplace=True)\n",
    "df.drop('times',axis=1,inplace=True)"
   ]
  },
  {
   "cell_type": "code",
   "execution_count": null,
   "id": "37ff08b5",
   "metadata": {},
   "outputs": [],
   "source": [
    "df['DRIVER_RACE'].unique()"
   ]
  },
  {
   "cell_type": "code",
   "execution_count": null,
   "id": "daa93f4a",
   "metadata": {},
   "outputs": [],
   "source": [
    "df['OFFICER_RACE'].value_counts()"
   ]
  },
  {
   "cell_type": "code",
   "execution_count": null,
   "id": "4051b559",
   "metadata": {},
   "outputs": [],
   "source": [
    "df.head()"
   ]
  },
  {
   "cell_type": "code",
   "execution_count": null,
   "id": "2fc4e9f7",
   "metadata": {},
   "outputs": [],
   "source": [
    "df['ACTIVITY RESULTS'].replace({'WARNING': 0, 'CITATION ISSUED': 1}, inplace=True)"
   ]
  },
  {
   "cell_type": "code",
   "execution_count": null,
   "id": "2191a3f7",
   "metadata": {},
   "outputs": [],
   "source": [
    "df.head()"
   ]
  },
  {
   "cell_type": "code",
   "execution_count": null,
   "id": "9b0da9bb",
   "metadata": {},
   "outputs": [],
   "source": [
    "df1=pd.get_dummies(df, columns=['OFFICER_RACE','OFFICER_GENDER','DRIVER_GENDER','DRIVER_RACE'], drop_first=True,prefix=\"dmy\")"
   ]
  },
  {
   "cell_type": "code",
   "execution_count": null,
   "id": "5c2cb7fb",
   "metadata": {},
   "outputs": [],
   "source": [
    "df1.head()"
   ]
  },
  {
   "cell_type": "code",
   "execution_count": null,
   "id": "1f4bcd53",
   "metadata": {},
   "outputs": [],
   "source": [
    "feature_cols=['OFFICER_AGE_RANGE','DRIVER_AGE_RANGE','NUMBER OF PASSENGERS','Month','Day','hour','dmy_BLACK','dmy_HISPANIC','dmy_AMERICAN INDIAN','dmy_ASIAN','dmy_ASIAN/PACIFIC ISLANDER','dmy_BLACK','dmy_HISPANIC','dmy_INDIAN/INDIA/BURMESE','dmy_INDIAN/INDIA/BURMESE','dmy_MIDDLE EASTERN DESCENT','dmy_UNKNOWN','dmy_WHITE']"
   ]
  },
  {
   "cell_type": "code",
   "execution_count": null,
   "id": "1b4f74ea",
   "metadata": {},
   "outputs": [],
   "source": [
    "X=df1[feature_cols]\n",
    "y=df1['ACTIVITY RESULTS']"
   ]
  },
  {
   "cell_type": "code",
   "execution_count": null,
   "id": "932804fe",
   "metadata": {},
   "outputs": [],
   "source": [
    "from sklearn.linear_model import LogisticRegression\n",
    "from sklearn import metrics\n",
    "from sklearn.model_selection import train_test_split\n",
    "X_train,X_test,y_train,y_test=train_test_split(X,y,test_size=0.25,random_state=0)\n",
    "logreg = LogisticRegression(max_iter=10000)\n",
    "logreg.fit(X_train, y_train)"
   ]
  },
  {
   "cell_type": "code",
   "execution_count": null,
   "id": "1e944331",
   "metadata": {},
   "outputs": [],
   "source": [
    "y_pred=logreg.predict(X_test)"
   ]
  },
  {
   "cell_type": "code",
   "execution_count": null,
   "id": "27f282f4",
   "metadata": {
    "scrolled": true
   },
   "outputs": [],
   "source": [
    "print(\"Accuracy:\",metrics.accuracy_score(y_test, y_pred))\n",
    "print(\"Precision:\",metrics.precision_score(y_test, y_pred))\n",
    "print(\"Recall:\",metrics.recall_score(y_test, y_pred))\n",
    "print(\"Specificity:\",metrics.recall_score(y_test, y_pred,pos_label=0))"
   ]
  },
  {
   "cell_type": "code",
   "execution_count": null,
   "id": "a9f9eea5",
   "metadata": {},
   "outputs": [],
   "source": []
  },
  {
   "cell_type": "code",
   "execution_count": null,
   "id": "a5366619",
   "metadata": {},
   "outputs": [],
   "source": [
    "from sklearn.metrics import confusion_matrix\n",
    "conf_matrix = confusion_matrix(y_test, y_pred)\n",
    "print(conf_matrix)"
   ]
  },
  {
   "cell_type": "code",
   "execution_count": null,
   "id": "ffc1d546",
   "metadata": {},
   "outputs": [],
   "source": [
    "\n",
    "fig, ax = plt.subplots(figsize=(7.5, 7.5))\n",
    "ax.matshow(conf_matrix, cmap=plt.cm.Blues, alpha=0.3)\n",
    "for i in range(conf_matrix.shape[0]):\n",
    "    for j in range(conf_matrix.shape[1]):\n",
    "        ax.text(x=j, y=i,s=conf_matrix[i, j], va='center', ha='center', size='xx-large')\n",
    " \n",
    "plt.xlabel('Predictions', fontsize=18)\n",
    "plt.ylabel('Actuals', fontsize=18)\n",
    "plt.title('Confusion Matrix', fontsize=18)\n",
    "plt.show()"
   ]
  },
  {
   "cell_type": "code",
   "execution_count": null,
   "id": "db10e765",
   "metadata": {},
   "outputs": [],
   "source": [
    "#class imbalance"
   ]
  },
  {
   "cell_type": "code",
   "execution_count": null,
   "id": "d58e209c",
   "metadata": {},
   "outputs": [],
   "source": [
    "df1['ACTIVITY RESULTS'].value_counts()"
   ]
  },
  {
   "cell_type": "code",
   "execution_count": null,
   "id": "4ee6a9b9",
   "metadata": {},
   "outputs": [],
   "source": [
    "sns.set(rc = {'figure.figsize':(12,8)})\n",
    "sns.countplot(x='ACTIVITY RESULTS',data=df1,palette='Set2')"
   ]
  },
  {
   "cell_type": "code",
   "execution_count": null,
   "id": "a435ec94",
   "metadata": {},
   "outputs": [],
   "source": [
    "import statsmodels.api as sm\n",
    "\n",
    "#define response variable\n",
    "y = df1['ACTIVITY RESULTS']\n",
    "\n",
    "#define predictor variables\n",
    "x = df1[feature_cols]\n",
    "\n",
    "#add constant to predictor variables\n",
    "x = sm.add_constant(x)\n",
    "\n",
    "#fit regression model\n",
    "model = sm.OLS(y, X.astype(float)).fit()\n",
    "\n",
    "#view summary of model fit\n",
    "print(model.summary())\n"
   ]
  },
  {
   "cell_type": "code",
   "execution_count": 228,
   "id": "7e90e9fe",
   "metadata": {},
   "outputs": [
    {
     "data": {
      "text/html": [
       "<div>\n",
       "<style scoped>\n",
       "    .dataframe tbody tr th:only-of-type {\n",
       "        vertical-align: middle;\n",
       "    }\n",
       "\n",
       "    .dataframe tbody tr th {\n",
       "        vertical-align: top;\n",
       "    }\n",
       "\n",
       "    .dataframe thead th {\n",
       "        text-align: right;\n",
       "    }\n",
       "</style>\n",
       "<table border=\"1\" class=\"dataframe\">\n",
       "  <thead>\n",
       "    <tr style=\"text-align: right;\">\n",
       "      <th></th>\n",
       "      <th>ACTIVITY RESULTS</th>\n",
       "      <th>OFFICER_AGE_RANGE</th>\n",
       "      <th>DRIVER_AGE_RANGE</th>\n",
       "      <th>NUMBER OF PASSENGERS</th>\n",
       "      <th>Month</th>\n",
       "      <th>Day</th>\n",
       "      <th>Year</th>\n",
       "      <th>hour</th>\n",
       "      <th>dmy_BLACK</th>\n",
       "      <th>dmy_HISPANIC</th>\n",
       "      <th>...</th>\n",
       "      <th>dmy_AMERICAN INDIAN</th>\n",
       "      <th>dmy_ASIAN</th>\n",
       "      <th>dmy_ASIAN/PACIFIC ISLANDER</th>\n",
       "      <th>dmy_BLACK</th>\n",
       "      <th>dmy_HISPANIC</th>\n",
       "      <th>dmy_INDIAN/INDIA/BURMESE</th>\n",
       "      <th>dmy_INDIAN/INDIA/BURMESE</th>\n",
       "      <th>dmy_MIDDLE EASTERN DESCENT</th>\n",
       "      <th>dmy_UNKNOWN</th>\n",
       "      <th>dmy_WHITE</th>\n",
       "    </tr>\n",
       "  </thead>\n",
       "  <tbody>\n",
       "    <tr>\n",
       "      <th>0</th>\n",
       "      <td>0</td>\n",
       "      <td>25</td>\n",
       "      <td>27</td>\n",
       "      <td>4</td>\n",
       "      <td>4</td>\n",
       "      <td>21</td>\n",
       "      <td>2018</td>\n",
       "      <td>22</td>\n",
       "      <td>0</td>\n",
       "      <td>0</td>\n",
       "      <td>...</td>\n",
       "      <td>0</td>\n",
       "      <td>0</td>\n",
       "      <td>0</td>\n",
       "      <td>0</td>\n",
       "      <td>0</td>\n",
       "      <td>0</td>\n",
       "      <td>0</td>\n",
       "      <td>0</td>\n",
       "      <td>0</td>\n",
       "      <td>1</td>\n",
       "    </tr>\n",
       "    <tr>\n",
       "      <th>1</th>\n",
       "      <td>1</td>\n",
       "      <td>55</td>\n",
       "      <td>45</td>\n",
       "      <td>0</td>\n",
       "      <td>4</td>\n",
       "      <td>7</td>\n",
       "      <td>2009</td>\n",
       "      <td>9</td>\n",
       "      <td>0</td>\n",
       "      <td>0</td>\n",
       "      <td>...</td>\n",
       "      <td>0</td>\n",
       "      <td>0</td>\n",
       "      <td>0</td>\n",
       "      <td>0</td>\n",
       "      <td>0</td>\n",
       "      <td>0</td>\n",
       "      <td>0</td>\n",
       "      <td>0</td>\n",
       "      <td>0</td>\n",
       "      <td>1</td>\n",
       "    </tr>\n",
       "    <tr>\n",
       "      <th>2</th>\n",
       "      <td>1</td>\n",
       "      <td>70</td>\n",
       "      <td>55</td>\n",
       "      <td>0</td>\n",
       "      <td>5</td>\n",
       "      <td>26</td>\n",
       "      <td>2018</td>\n",
       "      <td>23</td>\n",
       "      <td>1</td>\n",
       "      <td>0</td>\n",
       "      <td>...</td>\n",
       "      <td>0</td>\n",
       "      <td>0</td>\n",
       "      <td>0</td>\n",
       "      <td>1</td>\n",
       "      <td>0</td>\n",
       "      <td>0</td>\n",
       "      <td>0</td>\n",
       "      <td>0</td>\n",
       "      <td>0</td>\n",
       "      <td>0</td>\n",
       "    </tr>\n",
       "    <tr>\n",
       "      <th>3</th>\n",
       "      <td>1</td>\n",
       "      <td>55</td>\n",
       "      <td>35</td>\n",
       "      <td>0</td>\n",
       "      <td>2</td>\n",
       "      <td>9</td>\n",
       "      <td>2009</td>\n",
       "      <td>21</td>\n",
       "      <td>0</td>\n",
       "      <td>0</td>\n",
       "      <td>...</td>\n",
       "      <td>0</td>\n",
       "      <td>0</td>\n",
       "      <td>0</td>\n",
       "      <td>0</td>\n",
       "      <td>0</td>\n",
       "      <td>0</td>\n",
       "      <td>0</td>\n",
       "      <td>0</td>\n",
       "      <td>0</td>\n",
       "      <td>1</td>\n",
       "    </tr>\n",
       "    <tr>\n",
       "      <th>4</th>\n",
       "      <td>1</td>\n",
       "      <td>35</td>\n",
       "      <td>45</td>\n",
       "      <td>0</td>\n",
       "      <td>10</td>\n",
       "      <td>2</td>\n",
       "      <td>2016</td>\n",
       "      <td>19</td>\n",
       "      <td>1</td>\n",
       "      <td>0</td>\n",
       "      <td>...</td>\n",
       "      <td>0</td>\n",
       "      <td>0</td>\n",
       "      <td>0</td>\n",
       "      <td>0</td>\n",
       "      <td>0</td>\n",
       "      <td>0</td>\n",
       "      <td>0</td>\n",
       "      <td>0</td>\n",
       "      <td>0</td>\n",
       "      <td>1</td>\n",
       "    </tr>\n",
       "  </tbody>\n",
       "</table>\n",
       "<p>5 rows × 25 columns</p>\n",
       "</div>"
      ],
      "text/plain": [
       "   ACTIVITY RESULTS OFFICER_AGE_RANGE DRIVER_AGE_RANGE  NUMBER OF PASSENGERS  \\\n",
       "0                 0                25               27                     4   \n",
       "1                 1                55               45                     0   \n",
       "2                 1                70               55                     0   \n",
       "3                 1                55               35                     0   \n",
       "4                 1                35               45                     0   \n",
       "\n",
       "   Month  Day  Year  hour  dmy_BLACK  dmy_HISPANIC  ...  dmy_AMERICAN INDIAN  \\\n",
       "0      4   21  2018    22          0             0  ...                    0   \n",
       "1      4    7  2009     9          0             0  ...                    0   \n",
       "2      5   26  2018    23          1             0  ...                    0   \n",
       "3      2    9  2009    21          0             0  ...                    0   \n",
       "4     10    2  2016    19          1             0  ...                    0   \n",
       "\n",
       "   dmy_ASIAN  dmy_ASIAN/PACIFIC ISLANDER  dmy_BLACK  dmy_HISPANIC  \\\n",
       "0          0                           0          0             0   \n",
       "1          0                           0          0             0   \n",
       "2          0                           0          1             0   \n",
       "3          0                           0          0             0   \n",
       "4          0                           0          0             0   \n",
       "\n",
       "   dmy_INDIAN/INDIA/BURMESE  dmy_INDIAN/INDIA/BURMESE        \\\n",
       "0                         0                               0   \n",
       "1                         0                               0   \n",
       "2                         0                               0   \n",
       "3                         0                               0   \n",
       "4                         0                               0   \n",
       "\n",
       "   dmy_MIDDLE EASTERN DESCENT  dmy_UNKNOWN  dmy_WHITE  \n",
       "0                           0            0          1  \n",
       "1                           0            0          1  \n",
       "2                           0            0          0  \n",
       "3                           0            0          1  \n",
       "4                           0            0          1  \n",
       "\n",
       "[5 rows x 25 columns]"
      ]
     },
     "execution_count": 228,
     "metadata": {},
     "output_type": "execute_result"
    }
   ],
   "source": [
    "df1.head()"
   ]
  },
  {
   "cell_type": "code",
   "execution_count": 235,
   "id": "5f9c4d4b",
   "metadata": {},
   "outputs": [
    {
     "data": {
      "text/html": [
       "<div>\n",
       "<style scoped>\n",
       "    .dataframe tbody tr th:only-of-type {\n",
       "        vertical-align: middle;\n",
       "    }\n",
       "\n",
       "    .dataframe tbody tr th {\n",
       "        vertical-align: top;\n",
       "    }\n",
       "\n",
       "    .dataframe thead th {\n",
       "        text-align: right;\n",
       "    }\n",
       "</style>\n",
       "<table border=\"1\" class=\"dataframe\">\n",
       "  <thead>\n",
       "    <tr style=\"text-align: right;\">\n",
       "      <th></th>\n",
       "      <th>ACTIVITY RESULTS</th>\n",
       "      <th>OFFICER_GENDER</th>\n",
       "      <th>OFFICER_RACE</th>\n",
       "      <th>OFFICER_AGE_RANGE</th>\n",
       "      <th>DRIVER_GENDER</th>\n",
       "      <th>DRIVER_RACE</th>\n",
       "      <th>DRIVER_AGE_RANGE</th>\n",
       "      <th>NUMBER OF PASSENGERS</th>\n",
       "      <th>Month</th>\n",
       "      <th>Day</th>\n",
       "      <th>Year</th>\n",
       "      <th>hour</th>\n",
       "    </tr>\n",
       "  </thead>\n",
       "  <tbody>\n",
       "    <tr>\n",
       "      <th>0</th>\n",
       "      <td>0</td>\n",
       "      <td>M</td>\n",
       "      <td>WHITE</td>\n",
       "      <td>25</td>\n",
       "      <td>M</td>\n",
       "      <td>WHITE</td>\n",
       "      <td>27</td>\n",
       "      <td>4</td>\n",
       "      <td>4</td>\n",
       "      <td>21</td>\n",
       "      <td>2018</td>\n",
       "      <td>22</td>\n",
       "    </tr>\n",
       "    <tr>\n",
       "      <th>1</th>\n",
       "      <td>1</td>\n",
       "      <td>M</td>\n",
       "      <td>WHITE</td>\n",
       "      <td>55</td>\n",
       "      <td>M</td>\n",
       "      <td>WHITE</td>\n",
       "      <td>45</td>\n",
       "      <td>0</td>\n",
       "      <td>4</td>\n",
       "      <td>7</td>\n",
       "      <td>2009</td>\n",
       "      <td>9</td>\n",
       "    </tr>\n",
       "    <tr>\n",
       "      <th>2</th>\n",
       "      <td>1</td>\n",
       "      <td>M</td>\n",
       "      <td>BLACK</td>\n",
       "      <td>70</td>\n",
       "      <td>M</td>\n",
       "      <td>BLACK</td>\n",
       "      <td>55</td>\n",
       "      <td>0</td>\n",
       "      <td>5</td>\n",
       "      <td>26</td>\n",
       "      <td>2018</td>\n",
       "      <td>23</td>\n",
       "    </tr>\n",
       "    <tr>\n",
       "      <th>3</th>\n",
       "      <td>1</td>\n",
       "      <td>M</td>\n",
       "      <td>WHITE</td>\n",
       "      <td>55</td>\n",
       "      <td>M</td>\n",
       "      <td>WHITE</td>\n",
       "      <td>35</td>\n",
       "      <td>0</td>\n",
       "      <td>2</td>\n",
       "      <td>9</td>\n",
       "      <td>2009</td>\n",
       "      <td>21</td>\n",
       "    </tr>\n",
       "    <tr>\n",
       "      <th>4</th>\n",
       "      <td>1</td>\n",
       "      <td>M</td>\n",
       "      <td>BLACK</td>\n",
       "      <td>35</td>\n",
       "      <td>M</td>\n",
       "      <td>WHITE</td>\n",
       "      <td>45</td>\n",
       "      <td>0</td>\n",
       "      <td>10</td>\n",
       "      <td>2</td>\n",
       "      <td>2016</td>\n",
       "      <td>19</td>\n",
       "    </tr>\n",
       "  </tbody>\n",
       "</table>\n",
       "</div>"
      ],
      "text/plain": [
       "   ACTIVITY RESULTS OFFICER_GENDER OFFICER_RACE OFFICER_AGE_RANGE  \\\n",
       "0                 0              M        WHITE                25   \n",
       "1                 1              M        WHITE                55   \n",
       "2                 1              M        BLACK                70   \n",
       "3                 1              M        WHITE                55   \n",
       "4                 1              M        BLACK                35   \n",
       "\n",
       "  DRIVER_GENDER DRIVER_RACE DRIVER_AGE_RANGE  NUMBER OF PASSENGERS  Month  \\\n",
       "0             M       WHITE               27                     4      4   \n",
       "1             M       WHITE               45                     0      4   \n",
       "2             M       BLACK               55                     0      5   \n",
       "3             M       WHITE               35                     0      2   \n",
       "4             M       WHITE               45                     0     10   \n",
       "\n",
       "   Day  Year  hour  \n",
       "0   21  2018    22  \n",
       "1    7  2009     9  \n",
       "2   26  2018    23  \n",
       "3    9  2009    21  \n",
       "4    2  2016    19  "
      ]
     },
     "execution_count": 235,
     "metadata": {},
     "output_type": "execute_result"
    }
   ],
   "source": [
    "df.head()\n"
   ]
  },
  {
   "cell_type": "code",
   "execution_count": null,
   "id": "610e6626",
   "metadata": {},
   "outputs": [],
   "source": []
  }
 ],
 "metadata": {
  "kernelspec": {
   "display_name": "Python 3",
   "language": "python",
   "name": "python3"
  },
  "language_info": {
   "codemirror_mode": {
    "name": "ipython",
    "version": 3
   },
   "file_extension": ".py",
   "mimetype": "text/x-python",
   "name": "python",
   "nbconvert_exporter": "python",
   "pygments_lexer": "ipython3",
   "version": "3.8.3"
  }
 },
 "nbformat": 4,
 "nbformat_minor": 5
}
